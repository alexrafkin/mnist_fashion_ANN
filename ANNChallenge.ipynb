{
  "nbformat": 4,
  "nbformat_minor": 0,
  "metadata": {
    "colab": {
      "name": "ANNChallenge.ipynb",
      "provenance": [],
      "collapsed_sections": [],
      "authorship_tag": "ABX9TyPYJWNtlkWt+8rH2Y3fjWFn",
      "include_colab_link": true
    },
    "kernelspec": {
      "name": "python3",
      "display_name": "Python 3"
    }
  },
  "cells": [
    {
      "cell_type": "markdown",
      "metadata": {
        "id": "view-in-github",
        "colab_type": "text"
      },
      "source": [
        "<a href=\"https://colab.research.google.com/github/alexrafkin/mnist_fashion_ANN/blob/main/ANNChallenge.ipynb\" target=\"_parent\"><img src=\"https://colab.research.google.com/assets/colab-badge.svg\" alt=\"Open In Colab\"/></a>"
      ]
    },
    {
      "cell_type": "code",
      "metadata": {
        "id": "rAaY7y5JsmvA"
      },
      "source": [
        "import pandas as pd\n",
        "import numpy as np\n",
        "import scipy\n",
        "import matplotlib.pyplot as plt\n",
        "import seaborn as sns\n",
        "import warnings\n",
        "from sklearn.datasets import fetch_openml\n",
        "from sklearn.model_selection import train_test_split\n",
        "\n",
        "warnings.filterwarnings(\"ignore\")\n",
        "mnist = fetch_openml('Fashion-MNIST', version=1, cache=True)"
      ],
      "execution_count": null,
      "outputs": []
    },
    {
      "cell_type": "markdown",
      "metadata": {
        "id": "Ts6KSBB__OCn"
      },
      "source": [
        "After importing the data we can split it into testing and training sets."
      ]
    },
    {
      "cell_type": "code",
      "metadata": {
        "colab": {
          "base_uri": "https://localhost:8080/"
        },
        "id": "qs45Y9f0-uAe",
        "outputId": "f69773e9-2a17-4571-e6b3-1b4a45de714a"
      },
      "source": [
        "X_train, X_test, y_train, y_test = train_test_split(mnist.data, mnist.target, test_size = 1/7)\n",
        "print(X_test.shape, y_test.shape)\n",
        "print(X_train.shape, y_train.shape)"
      ],
      "execution_count": null,
      "outputs": [
        {
          "output_type": "stream",
          "text": [
            "(10000, 784) (10000,)\n",
            "(60000, 784) (60000,)\n"
          ],
          "name": "stdout"
        }
      ]
    },
    {
      "cell_type": "code",
      "metadata": {
        "id": "AHSuM1iJvDlI"
      },
      "source": [
        "input_dim = 784  # 28*28\n",
        "output_dim = nb_classes = 10\n",
        "\n",
        "X_train = X_train.reshape(60000, input_dim)\n",
        "X_test = X_test.reshape(10000, input_dim)\n",
        "X_train = X_train.astype('float32')\n",
        "X_test = X_test.astype('float32')\n",
        "X_train /= 255\n",
        "X_test /= 255"
      ],
      "execution_count": null,
      "outputs": []
    },
    {
      "cell_type": "code",
      "metadata": {
        "colab": {
          "base_uri": "https://localhost:8080/"
        },
        "id": "8KHf5gIHZzHR",
        "outputId": "e083490f-1322-4d8f-fdac-d8b5b252a668"
      },
      "source": [
        "X_train.shape"
      ],
      "execution_count": null,
      "outputs": [
        {
          "output_type": "execute_result",
          "data": {
            "text/plain": [
              "(60000, 784)"
            ]
          },
          "metadata": {
            "tags": []
          },
          "execution_count": 5
        }
      ]
    },
    {
      "cell_type": "markdown",
      "metadata": {
        "id": "QClIFdZZBDA9"
      },
      "source": [
        "Cleaning up the data a bit will be helpful for our future models. We also want to standardize the data to be between 0 and 1."
      ]
    },
    {
      "cell_type": "code",
      "metadata": {
        "id": "cQt7GAWbwC6S"
      },
      "source": [
        "from tensorflow.keras.utils import to_categorical\n",
        "\n",
        "Y_train = to_categorical(y_train, nb_classes)\n",
        "Y_test = to_categorical(y_test, nb_classes)"
      ],
      "execution_count": null,
      "outputs": []
    },
    {
      "cell_type": "markdown",
      "metadata": {
        "id": "uxOsWrZsBPQ9"
      },
      "source": [
        "This changes the target variable to categorical dummy variables which is our desired data type."
      ]
    },
    {
      "cell_type": "code",
      "metadata": {
        "colab": {
          "base_uri": "https://localhost:8080/",
          "height": 307
        },
        "id": "jovHltdKwTF3",
        "outputId": "3e8dacbf-e694-477b-cd3b-ae5ecdece273"
      },
      "source": [
        "import matplotlib.pyplot as plt\n",
        "\n",
        "plt.figure(figsize=(20,5))\n",
        "\n",
        "plt.subplot(141)\n",
        "plt.imshow(X_train[123].reshape(28,28), cmap=\"gray\")\n",
        "plt.title(\"Label of the image: {}\".format(y_train[123]))\n",
        "\n",
        "plt.subplot(142)\n",
        "plt.imshow(X_train[124].reshape(28,28), cmap=\"gray\")\n",
        "plt.title(\"Label of the image: {}\".format(y_train[124]))\n",
        "\n",
        "plt.subplot(143)\n",
        "plt.imshow(X_train[125].reshape(28,28), cmap=\"gray\")\n",
        "plt.title(\"Label of the image: {}\".format(y_train[125]))\n",
        "\n",
        "plt.subplot(144)\n",
        "plt.imshow(X_train[126].reshape(28,28), cmap=\"gray\")\n",
        "plt.title(\"Label of the image: {}\".format(y_train[126]))\n",
        "\n",
        "plt.show()"
      ],
      "execution_count": null,
      "outputs": [
        {
          "output_type": "display_data",
          "data": {
            "image/png": "[encoded data removed]",
            "text/plain": [
              "<Figure size 1440x360 with 4 Axes>"
            ]
          },
          "metadata": {
            "tags": [],
            "needs_background": "light"
          }
        }
      ]
    },
    {
      "cell_type": "markdown",
      "metadata": {
        "id": "NnS81WBiBjt5"
      },
      "source": [
        "Here we can see what some of these images look like before we begin developing models."
      ]
    },
    {
      "cell_type": "markdown",
      "metadata": {
        "id": "FS6S85LJhcjJ"
      },
      "source": [
        "Lets remind ourselves what the labels are:\n",
        "0.\tT-shirt/top\n",
        "1.\tTrouser\n",
        "2.\tPullover\n",
        "3.\tDress\n",
        "4.\tCoat\n",
        "5.\tSandal\n",
        "6.\tShirt\n",
        "7.\tSneaker\n",
        "8.\tBag\n",
        "9.\tAnkle boot"
      ]
    },
    {
      "cell_type": "markdown",
      "metadata": {
        "id": "NG8_iVaPhJN3"
      },
      "source": [
        "# Try different ANN models and train them on your training set. You can play with the following:\n",
        "\n",
        "* Number of layers: 3 vs 6\n",
        "* Activation functions of the layers: tanh, sigmoid, relu\n",
        "* Number of neurons in the layers: all high vs lower and div2\n",
        "* Different batch sizes during training: 128 vs full batch"
      ]
    },
    {
      "cell_type": "markdown",
      "metadata": {
        "id": "liNAPTisDxZc"
      },
      "source": [
        "To track test performance, lets make a list of the test accuracies."
      ]
    },
    {
      "cell_type": "code",
      "metadata": {
        "id": "Romsrru2Dr78"
      },
      "source": [
        "test_acc = []"
      ],
      "execution_count": null,
      "outputs": []
    },
    {
      "cell_type": "code",
      "metadata": {
        "id": "H4ozu_HJLzJ1"
      },
      "source": [
        "train_acc = []"
      ],
      "execution_count": null,
      "outputs": []
    },
    {
      "cell_type": "markdown",
      "metadata": {
        "id": "cfqm5VmDkm0h"
      },
      "source": [
        "##3-layer, tanh"
      ]
    },
    {
      "cell_type": "code",
      "metadata": {
        "id": "OI9oVigMwXtW"
      },
      "source": [
        "from tensorflow.keras.models import Sequential \n",
        "from tensorflow.keras.layers import Dense\n",
        "\n",
        "model = Sequential()\n",
        "# The first dense layer\n",
        "model.add(Dense(1024, input_shape=(784,), activation=\"tanh\"))\n",
        "# The second dense layer\n",
        "model.add(Dense(1024, input_shape=(784,), activation=\"tanh\"))\n",
        "# The last layer is the output layer\n",
        "model.add(Dense(10, activation=\"softmax\"))"
      ],
      "execution_count": null,
      "outputs": []
    },
    {
      "cell_type": "code",
      "metadata": {
        "colab": {
          "base_uri": "https://localhost:8080/"
        },
        "id": "ko9qnwCFwjTb",
        "outputId": "f628483d-823e-4a0e-fc42-19acfa0dca57"
      },
      "source": [
        "model.summary()"
      ],
      "execution_count": null,
      "outputs": [
        {
          "output_type": "stream",
          "text": [
            "Model: \"sequential\"\n",
            "_________________________________________________________________\n",
            "Layer (type)                 Output Shape              Param #   \n",
            "=================================================================\n",
            "dense (Dense)                (None, 1024)              803840    \n",
            "_________________________________________________________________\n",
            "dense_1 (Dense)              (None, 1024)              1049600   \n",
            "_________________________________________________________________\n",
            "dense_2 (Dense)              (None, 10)                10250     \n",
            "=================================================================\n",
            "Total params: 1,863,690\n",
            "Trainable params: 1,863,690\n",
            "Non-trainable params: 0\n",
            "_________________________________________________________________\n"
          ],
          "name": "stdout"
        }
      ]
    },
    {
      "cell_type": "code",
      "metadata": {
        "id": "y9Ak0vSwxCt-"
      },
      "source": [
        "model.compile(optimizer='sgd', loss='categorical_crossentropy',\n",
        "              metrics=['accuracy'])"
      ],
      "execution_count": null,
      "outputs": []
    },
    {
      "cell_type": "code",
      "metadata": {
        "colab": {
          "base_uri": "https://localhost:8080/",
          "height": 164
        },
        "id": "nJTzEoY0Zkx3",
        "outputId": "48fc8041-707f-4cb6-9190-896896944a49"
      },
      "source": [
        "X_train.shape"
      ],
      "execution_count": null,
      "outputs": [
        {
          "output_type": "error",
          "ename": "NameError",
          "evalue": "ignored",
          "traceback": [
            "\u001b[0;31m---------------------------------------------------------------------------\u001b[0m",
            "\u001b[0;31mNameError\u001b[0m                                 Traceback (most recent call last)",
            "\u001b[0;32m<ipython-input-1-d2ba684acd0f>\u001b[0m in \u001b[0;36m<module>\u001b[0;34m()\u001b[0m\n\u001b[0;32m----> 1\u001b[0;31m \u001b[0mX_train\u001b[0m\u001b[0;34m.\u001b[0m\u001b[0mshape\u001b[0m\u001b[0;34m\u001b[0m\u001b[0;34m\u001b[0m\u001b[0m\n\u001b[0m",
            "\u001b[0;31mNameError\u001b[0m: name 'X_train' is not defined"
          ]
        }
      ]
    },
    {
      "cell_type": "code",
      "metadata": {
        "colab": {
          "base_uri": "https://localhost:8080/"
        },
        "id": "AYSkNsNzxVmN",
        "outputId": "f32c7493-e02f-4b0b-a3c4-3be7dc44f9c6"
      },
      "source": [
        "# Setting `verbose=1` prints out some results after each epoch\n",
        "model.fit(X_train, Y_train, batch_size=128, epochs=20, verbose=1)"
      ],
      "execution_count": null,
      "outputs": [
        {
          "output_type": "stream",
          "text": [
            "Epoch 1/20\n",
            "469/469 [==============================] - 18s 38ms/step - loss: 1.0951 - accuracy: 0.6562\n",
            "Epoch 2/20\n",
            "469/469 [==============================] - 17s 36ms/step - loss: 0.5729 - accuracy: 0.8071\n",
            "Epoch 3/20\n",
            "469/469 [==============================] - 17s 35ms/step - loss: 0.5140 - accuracy: 0.8225\n",
            "Epoch 4/20\n",
            "469/469 [==============================] - 18s 37ms/step - loss: 0.4754 - accuracy: 0.8347\n",
            "Epoch 5/20\n",
            "469/469 [==============================] - 18s 38ms/step - loss: 0.4655 - accuracy: 0.8361\n",
            "Epoch 6/20\n",
            "469/469 [==============================] - 17s 36ms/step - loss: 0.4522 - accuracy: 0.8411\n",
            "Epoch 7/20\n",
            "469/469 [==============================] - 18s 39ms/step - loss: 0.4461 - accuracy: 0.8430\n",
            "Epoch 8/20\n",
            "469/469 [==============================] - 19s 40ms/step - loss: 0.4331 - accuracy: 0.8467\n",
            "Epoch 9/20\n",
            "469/469 [==============================] - 19s 40ms/step - loss: 0.4270 - accuracy: 0.8480\n",
            "Epoch 10/20\n",
            "469/469 [==============================] - 18s 38ms/step - loss: 0.4131 - accuracy: 0.8532\n",
            "Epoch 11/20\n",
            "469/469 [==============================] - 17s 36ms/step - loss: 0.4127 - accuracy: 0.8541\n",
            "Epoch 12/20\n",
            "469/469 [==============================] - 17s 36ms/step - loss: 0.4125 - accuracy: 0.8539\n",
            "Epoch 13/20\n",
            "469/469 [==============================] - 18s 38ms/step - loss: 0.4016 - accuracy: 0.8595\n",
            "Epoch 14/20\n",
            "469/469 [==============================] - 17s 37ms/step - loss: 0.3985 - accuracy: 0.8610\n",
            "Epoch 15/20\n",
            "469/469 [==============================] - 17s 36ms/step - loss: 0.3972 - accuracy: 0.8584\n",
            "Epoch 16/20\n",
            "469/469 [==============================] - 17s 37ms/step - loss: 0.3933 - accuracy: 0.8612\n",
            "Epoch 17/20\n",
            "469/469 [==============================] - 18s 39ms/step - loss: 0.3908 - accuracy: 0.8611\n",
            "Epoch 18/20\n",
            "469/469 [==============================] - 17s 37ms/step - loss: 0.3856 - accuracy: 0.8620\n",
            "Epoch 19/20\n",
            "469/469 [==============================] - 18s 38ms/step - loss: 0.3834 - accuracy: 0.8643\n",
            "Epoch 20/20\n",
            "469/469 [==============================] - 17s 36ms/step - loss: 0.3742 - accuracy: 0.8679\n"
          ],
          "name": "stdout"
        },
        {
          "output_type": "execute_result",
          "data": {
            "text/plain": [
              "<tensorflow.python.keras.callbacks.History at 0x7f0ff00821d0>"
            ]
          },
          "metadata": {
            "tags": []
          },
          "execution_count": 11
        }
      ]
    },
    {
      "cell_type": "code",
      "metadata": {
        "colab": {
          "base_uri": "https://localhost:8080/"
        },
        "id": "99KuH_ruxiy6",
        "outputId": "9b093e67-bcfe-4146-c8a7-d2c39d50e29b"
      },
      "source": [
        "score = model.evaluate(X_test, Y_test, verbose=0)\n",
        "train_score = model.evaluate(X_train, Y_train, verbose=0)\n",
        "train_acc.append(train_score[1])\n",
        "test_acc.append(score[1])\n",
        "print('Test accuracy:', score[1])"
      ],
      "execution_count": null,
      "outputs": [
        {
          "output_type": "stream",
          "text": [
            "Test accuracy: 0.8641999959945679\n"
          ],
          "name": "stdout"
        }
      ]
    },
    {
      "cell_type": "markdown",
      "metadata": {
        "id": "1GD5VG0eIyEP"
      },
      "source": [
        "We can see that the training score and test score are really close, not having many concerns about overfitting here."
      ]
    },
    {
      "cell_type": "code",
      "metadata": {
        "id": "Sf5F8AZ-DK8J"
      },
      "source": [
        "model = Sequential()\n",
        "# The first dense layer\n",
        "model.add(Dense(1024, input_shape=(784,), activation=\"tanh\"))\n",
        "# The second dense layer\n",
        "model.add(Dense(1024, input_shape=(784,), activation=\"tanh\"))\n",
        "# The last layer is the output layer\n",
        "model.add(Dense(10, activation=\"softmax\"))"
      ],
      "execution_count": null,
      "outputs": []
    },
    {
      "cell_type": "code",
      "metadata": {
        "colab": {
          "base_uri": "https://localhost:8080/"
        },
        "id": "0cBH-MO9DK8K",
        "outputId": "61688804-9a03-4795-e051-f86713ba8cd8"
      },
      "source": [
        "model.summary()"
      ],
      "execution_count": null,
      "outputs": [
        {
          "output_type": "stream",
          "text": [
            "Model: \"sequential_1\"\n",
            "_________________________________________________________________\n",
            "Layer (type)                 Output Shape              Param #   \n",
            "=================================================================\n",
            "dense_3 (Dense)              (None, 1024)              803840    \n",
            "_________________________________________________________________\n",
            "dense_4 (Dense)              (None, 1024)              1049600   \n",
            "_________________________________________________________________\n",
            "dense_5 (Dense)              (None, 10)                10250     \n",
            "=================================================================\n",
            "Total params: 1,863,690\n",
            "Trainable params: 1,863,690\n",
            "Non-trainable params: 0\n",
            "_________________________________________________________________\n"
          ],
          "name": "stdout"
        }
      ]
    },
    {
      "cell_type": "code",
      "metadata": {
        "id": "8sA3QO8aDK8K"
      },
      "source": [
        "model.compile(optimizer='sgd', loss='categorical_crossentropy',\n",
        "              metrics=['accuracy'])"
      ],
      "execution_count": null,
      "outputs": []
    },
    {
      "cell_type": "code",
      "metadata": {
        "colab": {
          "base_uri": "https://localhost:8080/"
        },
        "id": "_pk_hUeEkwtn",
        "outputId": "c32c9f1e-a9a3-497d-d622-ab334057903e"
      },
      "source": [
        "# Setting `verbose=1` prints out some results after each epoch\n",
        "model.fit(X_train, Y_train, batch_size=60000, epochs=20, verbose=1)"
      ],
      "execution_count": null,
      "outputs": [
        {
          "output_type": "stream",
          "text": [
            "Epoch 1/20\n",
            "1/1 [==============================] - 11s 11s/step - loss: 2.4341 - accuracy: 0.0865\n",
            "Epoch 2/20\n",
            "1/1 [==============================] - 10s 10s/step - loss: 2.3383 - accuracy: 0.1226\n",
            "Epoch 3/20\n",
            "1/1 [==============================] - 10s 10s/step - loss: 2.2598 - accuracy: 0.1695\n",
            "Epoch 4/20\n",
            "1/1 [==============================] - 10s 10s/step - loss: 2.1909 - accuracy: 0.2151\n",
            "Epoch 5/20\n",
            "1/1 [==============================] - 10s 10s/step - loss: 2.1284 - accuracy: 0.2562\n",
            "Epoch 6/20\n",
            "1/1 [==============================] - 10s 10s/step - loss: 2.0706 - accuracy: 0.2956\n",
            "Epoch 7/20\n",
            "1/1 [==============================] - 10s 10s/step - loss: 2.0165 - accuracy: 0.3330\n",
            "Epoch 8/20\n",
            "1/1 [==============================] - 10s 10s/step - loss: 1.9658 - accuracy: 0.3695\n",
            "Epoch 9/20\n",
            "1/1 [==============================] - 10s 10s/step - loss: 1.9180 - accuracy: 0.4069\n",
            "Epoch 10/20\n",
            "1/1 [==============================] - 10s 10s/step - loss: 1.8730 - accuracy: 0.4428\n",
            "Epoch 11/20\n",
            "1/1 [==============================] - 10s 10s/step - loss: 1.8306 - accuracy: 0.4732\n",
            "Epoch 12/20\n",
            "1/1 [==============================] - 10s 10s/step - loss: 1.7906 - accuracy: 0.4986\n",
            "Epoch 13/20\n",
            "1/1 [==============================] - 10s 10s/step - loss: 1.7528 - accuracy: 0.5213\n",
            "Epoch 14/20\n",
            "1/1 [==============================] - 10s 10s/step - loss: 1.7170 - accuracy: 0.5400\n",
            "Epoch 15/20\n",
            "1/1 [==============================] - 10s 10s/step - loss: 1.6833 - accuracy: 0.5551\n",
            "Epoch 16/20\n",
            "1/1 [==============================] - 10s 10s/step - loss: 1.6513 - accuracy: 0.5674\n",
            "Epoch 17/20\n",
            "1/1 [==============================] - 10s 10s/step - loss: 1.6211 - accuracy: 0.5781\n",
            "Epoch 18/20\n",
            "1/1 [==============================] - 10s 10s/step - loss: 1.5924 - accuracy: 0.5864\n",
            "Epoch 19/20\n",
            "1/1 [==============================] - 10s 10s/step - loss: 1.5651 - accuracy: 0.5935\n",
            "Epoch 20/20\n",
            "1/1 [==============================] - 10s 10s/step - loss: 1.5393 - accuracy: 0.6000\n"
          ],
          "name": "stdout"
        },
        {
          "output_type": "execute_result",
          "data": {
            "text/plain": [
              "<tensorflow.python.keras.callbacks.History at 0x7f0fed95a450>"
            ]
          },
          "metadata": {
            "tags": []
          },
          "execution_count": 16
        }
      ]
    },
    {
      "cell_type": "code",
      "metadata": {
        "colab": {
          "base_uri": "https://localhost:8080/"
        },
        "id": "2qX0dt2skwto",
        "outputId": "e0987d8a-843f-4e39-e4d4-6332d4952c9b"
      },
      "source": [
        "score = model.evaluate(X_test, Y_test, verbose=0)\n",
        "train_score = model.evaluate(X_train, Y_train, verbose=0)\n",
        "train_acc.append(train_score[1])\n",
        "test_acc.append(score[1])\n",
        "print('Test accuracy:', score[1])"
      ],
      "execution_count": null,
      "outputs": [
        {
          "output_type": "stream",
          "text": [
            "Test accuracy: 0.6074000000953674\n"
          ],
          "name": "stdout"
        }
      ]
    },
    {
      "cell_type": "markdown",
      "metadata": {
        "id": "dGNKCjl1I-Ip"
      },
      "source": [
        "We can see that the training score and test score are really close, not having many concerns about overfitting here. However, this is way lower than our initial model."
      ]
    },
    {
      "cell_type": "code",
      "metadata": {
        "id": "ZPzzDwR8lFQq"
      },
      "source": [
        "model = Sequential()\n",
        "# The first dense layer\n",
        "model.add(Dense(64, input_shape=(784,), activation=\"tanh\"))\n",
        "# The second dense layer\n",
        "model.add(Dense(32, input_shape=(784,), activation=\"tanh\"))\n",
        "# The last layer is the output layer\n",
        "model.add(Dense(10, activation=\"softmax\"))"
      ],
      "execution_count": null,
      "outputs": []
    },
    {
      "cell_type": "code",
      "metadata": {
        "colab": {
          "base_uri": "https://localhost:8080/"
        },
        "id": "yCxNWtvPlWMv",
        "outputId": "eb38ddc9-cb03-45cf-e6f4-6dd3d0715050"
      },
      "source": [
        "model.summary()"
      ],
      "execution_count": null,
      "outputs": [
        {
          "output_type": "stream",
          "text": [
            "Model: \"sequential_2\"\n",
            "_________________________________________________________________\n",
            "Layer (type)                 Output Shape              Param #   \n",
            "=================================================================\n",
            "dense_6 (Dense)              (None, 64)                50240     \n",
            "_________________________________________________________________\n",
            "dense_7 (Dense)              (None, 32)                2080      \n",
            "_________________________________________________________________\n",
            "dense_8 (Dense)              (None, 10)                330       \n",
            "=================================================================\n",
            "Total params: 52,650\n",
            "Trainable params: 52,650\n",
            "Non-trainable params: 0\n",
            "_________________________________________________________________\n"
          ],
          "name": "stdout"
        }
      ]
    },
    {
      "cell_type": "code",
      "metadata": {
        "id": "_03Zsu3XlWMw"
      },
      "source": [
        "model.compile(optimizer='sgd', loss='categorical_crossentropy',\n",
        "              metrics=['accuracy'])"
      ],
      "execution_count": null,
      "outputs": []
    },
    {
      "cell_type": "code",
      "metadata": {
        "colab": {
          "base_uri": "https://localhost:8080/"
        },
        "id": "x9er5SkPlWMw",
        "outputId": "af793a1f-f309-4341-c41f-fc92dfcd8511"
      },
      "source": [
        "# Setting `verbose=1` prints out some results after each epoch\n",
        "model.fit(X_train, Y_train, batch_size=128, epochs=20, verbose=1)"
      ],
      "execution_count": null,
      "outputs": [
        {
          "output_type": "stream",
          "text": [
            "Epoch 1/20\n",
            "469/469 [==============================] - 1s 2ms/step - loss: 1.5247 - accuracy: 0.5313\n",
            "Epoch 2/20\n",
            "469/469 [==============================] - 1s 2ms/step - loss: 0.7726 - accuracy: 0.7570\n",
            "Epoch 3/20\n",
            "469/469 [==============================] - 1s 2ms/step - loss: 0.6360 - accuracy: 0.7927\n",
            "Epoch 4/20\n",
            "469/469 [==============================] - 1s 3ms/step - loss: 0.5717 - accuracy: 0.8111\n",
            "Epoch 5/20\n",
            "469/469 [==============================] - 1s 2ms/step - loss: 0.5311 - accuracy: 0.8225\n",
            "Epoch 6/20\n",
            "469/469 [==============================] - 1s 3ms/step - loss: 0.5107 - accuracy: 0.8276\n",
            "Epoch 7/20\n",
            "469/469 [==============================] - 1s 3ms/step - loss: 0.4886 - accuracy: 0.8316\n",
            "Epoch 8/20\n",
            "469/469 [==============================] - 1s 2ms/step - loss: 0.4691 - accuracy: 0.8376\n",
            "Epoch 9/20\n",
            "469/469 [==============================] - 1s 2ms/step - loss: 0.4608 - accuracy: 0.8391\n",
            "Epoch 10/20\n",
            "469/469 [==============================] - 1s 2ms/step - loss: 0.4485 - accuracy: 0.8448\n",
            "Epoch 11/20\n",
            "469/469 [==============================] - 1s 2ms/step - loss: 0.4365 - accuracy: 0.8464\n",
            "Epoch 12/20\n",
            "469/469 [==============================] - 1s 3ms/step - loss: 0.4311 - accuracy: 0.8491\n",
            "Epoch 13/20\n",
            "469/469 [==============================] - 1s 2ms/step - loss: 0.4277 - accuracy: 0.8503\n",
            "Epoch 14/20\n",
            "469/469 [==============================] - 1s 2ms/step - loss: 0.4212 - accuracy: 0.8524\n",
            "Epoch 15/20\n",
            "469/469 [==============================] - 1s 2ms/step - loss: 0.4118 - accuracy: 0.8546\n",
            "Epoch 16/20\n",
            "469/469 [==============================] - 1s 2ms/step - loss: 0.4153 - accuracy: 0.8553\n",
            "Epoch 17/20\n",
            "469/469 [==============================] - 1s 2ms/step - loss: 0.4002 - accuracy: 0.8594\n",
            "Epoch 18/20\n",
            "469/469 [==============================] - 1s 2ms/step - loss: 0.3977 - accuracy: 0.8597\n",
            "Epoch 19/20\n",
            "469/469 [==============================] - 1s 2ms/step - loss: 0.3947 - accuracy: 0.8609\n",
            "Epoch 20/20\n",
            "469/469 [==============================] - 1s 2ms/step - loss: 0.3885 - accuracy: 0.8631\n"
          ],
          "name": "stdout"
        },
        {
          "output_type": "execute_result",
          "data": {
            "text/plain": [
              "<tensorflow.python.keras.callbacks.History at 0x7f0fed0bd810>"
            ]
          },
          "metadata": {
            "tags": []
          },
          "execution_count": 21
        }
      ]
    },
    {
      "cell_type": "code",
      "metadata": {
        "colab": {
          "base_uri": "https://localhost:8080/"
        },
        "id": "H90TGbLClWMx",
        "outputId": "e0da0af8-6a12-4d78-ea41-06a2a58a98a2"
      },
      "source": [
        "score = model.evaluate(X_test, Y_test, verbose=0)\n",
        "train_score = model.evaluate(X_train, Y_train, verbose=0)\n",
        "train_acc.append(train_score[1])\n",
        "test_acc.append(score[1])\n",
        "print('Test accuracy:', score[1])"
      ],
      "execution_count": null,
      "outputs": [
        {
          "output_type": "stream",
          "text": [
            "Test accuracy: 0.8637999892234802\n"
          ],
          "name": "stdout"
        }
      ]
    },
    {
      "cell_type": "markdown",
      "metadata": {
        "id": "lcrfZJ_IJA3Y"
      },
      "source": [
        "We can see that the training score and test score are really close, not having many concerns about overfitting here."
      ]
    },
    {
      "cell_type": "code",
      "metadata": {
        "id": "vzbVZF-dDQPX"
      },
      "source": [
        "model = Sequential()\n",
        "# The first dense layer\n",
        "model.add(Dense(64, input_shape=(784,), activation=\"tanh\"))\n",
        "# The second dense layer\n",
        "model.add(Dense(32, input_shape=(784,), activation=\"tanh\"))\n",
        "# The last layer is the output layer\n",
        "model.add(Dense(10, activation=\"softmax\"))"
      ],
      "execution_count": null,
      "outputs": []
    },
    {
      "cell_type": "code",
      "metadata": {
        "colab": {
          "base_uri": "https://localhost:8080/"
        },
        "id": "79nXN1dSDQPY",
        "outputId": "7e0f4ce9-c1ba-40a6-fc1a-e915b7dcad4c"
      },
      "source": [
        "model.summary()"
      ],
      "execution_count": null,
      "outputs": [
        {
          "output_type": "stream",
          "text": [
            "Model: \"sequential_3\"\n",
            "_________________________________________________________________\n",
            "Layer (type)                 Output Shape              Param #   \n",
            "=================================================================\n",
            "dense_9 (Dense)              (None, 64)                50240     \n",
            "_________________________________________________________________\n",
            "dense_10 (Dense)             (None, 32)                2080      \n",
            "_________________________________________________________________\n",
            "dense_11 (Dense)             (None, 10)                330       \n",
            "=================================================================\n",
            "Total params: 52,650\n",
            "Trainable params: 52,650\n",
            "Non-trainable params: 0\n",
            "_________________________________________________________________\n"
          ],
          "name": "stdout"
        }
      ]
    },
    {
      "cell_type": "code",
      "metadata": {
        "id": "FmaiyLjLDQPY"
      },
      "source": [
        "model.compile(optimizer='sgd', loss='categorical_crossentropy',\n",
        "              metrics=['accuracy'])"
      ],
      "execution_count": null,
      "outputs": []
    },
    {
      "cell_type": "code",
      "metadata": {
        "colab": {
          "base_uri": "https://localhost:8080/"
        },
        "id": "xrJj_pLTlWMx",
        "outputId": "749a4000-a16f-4409-fd62-e33bb7091936"
      },
      "source": [
        "# Setting `verbose=1` prints out some results after each epoch\n",
        "model.fit(X_train, Y_train, batch_size=60000, epochs=20, verbose=1)"
      ],
      "execution_count": null,
      "outputs": [
        {
          "output_type": "stream",
          "text": [
            "Epoch 1/20\n",
            "1/1 [==============================] - 1s 940ms/step - loss: 2.4767 - accuracy: 0.0678\n",
            "Epoch 2/20\n",
            "1/1 [==============================] - 0s 397ms/step - loss: 2.4003 - accuracy: 0.1010\n",
            "Epoch 3/20\n",
            "1/1 [==============================] - 0s 376ms/step - loss: 2.3442 - accuracy: 0.1258\n",
            "Epoch 4/20\n",
            "1/1 [==============================] - 0s 390ms/step - loss: 2.3014 - accuracy: 0.1395\n",
            "Epoch 5/20\n",
            "1/1 [==============================] - 0s 414ms/step - loss: 2.2671 - accuracy: 0.1504\n",
            "Epoch 6/20\n",
            "1/1 [==============================] - 0s 376ms/step - loss: 2.2381 - accuracy: 0.1598\n",
            "Epoch 7/20\n",
            "1/1 [==============================] - 0s 384ms/step - loss: 2.2127 - accuracy: 0.1709\n",
            "Epoch 8/20\n",
            "1/1 [==============================] - 0s 399ms/step - loss: 2.1895 - accuracy: 0.1824\n",
            "Epoch 9/20\n",
            "1/1 [==============================] - 0s 362ms/step - loss: 2.1681 - accuracy: 0.1950\n",
            "Epoch 10/20\n",
            "1/1 [==============================] - 0s 390ms/step - loss: 2.1478 - accuracy: 0.2092\n",
            "Epoch 11/20\n",
            "1/1 [==============================] - 0s 384ms/step - loss: 2.1285 - accuracy: 0.2248\n",
            "Epoch 12/20\n",
            "1/1 [==============================] - 0s 368ms/step - loss: 2.1100 - accuracy: 0.2402\n",
            "Epoch 13/20\n",
            "1/1 [==============================] - 0s 380ms/step - loss: 2.0921 - accuracy: 0.2544\n",
            "Epoch 14/20\n",
            "1/1 [==============================] - 0s 394ms/step - loss: 2.0748 - accuracy: 0.2703\n",
            "Epoch 15/20\n",
            "1/1 [==============================] - 0s 414ms/step - loss: 2.0579 - accuracy: 0.2848\n",
            "Epoch 16/20\n",
            "1/1 [==============================] - 0s 471ms/step - loss: 2.0416 - accuracy: 0.2994\n",
            "Epoch 17/20\n",
            "1/1 [==============================] - 0s 397ms/step - loss: 2.0257 - accuracy: 0.3131\n",
            "Epoch 18/20\n",
            "1/1 [==============================] - 0s 378ms/step - loss: 2.0101 - accuracy: 0.3264\n",
            "Epoch 19/20\n",
            "1/1 [==============================] - 0s 337ms/step - loss: 1.9950 - accuracy: 0.3396\n",
            "Epoch 20/20\n",
            "1/1 [==============================] - 0s 344ms/step - loss: 1.9801 - accuracy: 0.3510\n"
          ],
          "name": "stdout"
        },
        {
          "output_type": "execute_result",
          "data": {
            "text/plain": [
              "<tensorflow.python.keras.callbacks.History at 0x7f0ff3e4f710>"
            ]
          },
          "metadata": {
            "tags": []
          },
          "execution_count": 26
        }
      ]
    },
    {
      "cell_type": "code",
      "metadata": {
        "colab": {
          "base_uri": "https://localhost:8080/"
        },
        "id": "nlo1XYPrlWMx",
        "outputId": "e741faa5-d1d3-494e-b08e-7925f1f9e5a9"
      },
      "source": [
        "score = model.evaluate(X_test, Y_test, verbose=0)\n",
        "train_score = model.evaluate(X_train, Y_train, verbose=0)\n",
        "train_acc.append(train_score[1])\n",
        "test_acc.append(score[1])\n",
        "print('Test accuracy:', score[1])"
      ],
      "execution_count": null,
      "outputs": [
        {
          "output_type": "stream",
          "text": [
            "Test accuracy: 0.3702999949455261\n"
          ],
          "name": "stdout"
        }
      ]
    },
    {
      "cell_type": "markdown",
      "metadata": {
        "id": "vypUQ8nMJC2n"
      },
      "source": [
        "We can see that the training score and test score are really close, not having many concerns about overfitting here. This model is super inaccurate, we wont be using it."
      ]
    },
    {
      "cell_type": "markdown",
      "metadata": {
        "id": "JngWU3qoorfp"
      },
      "source": [
        "## 3-layer, sigmoid"
      ]
    },
    {
      "cell_type": "code",
      "metadata": {
        "id": "Gijrz4gZlybr"
      },
      "source": [
        "model = Sequential()\n",
        "# The first dense layer\n",
        "model.add(Dense(1024, input_shape=(784,), activation=\"sigmoid\"))\n",
        "# The second dense layer\n",
        "model.add(Dense(1024, input_shape=(784,), activation=\"sigmoid\"))\n",
        "# The last layer is the output layer\n",
        "model.add(Dense(10, activation=\"softmax\"))"
      ],
      "execution_count": null,
      "outputs": []
    },
    {
      "cell_type": "code",
      "metadata": {
        "colab": {
          "base_uri": "https://localhost:8080/"
        },
        "id": "sIU1Ah3wlybs",
        "outputId": "5dd4b7b2-9d71-4822-abfd-7e5c8cedb808"
      },
      "source": [
        "model.summary()"
      ],
      "execution_count": null,
      "outputs": [
        {
          "output_type": "stream",
          "text": [
            "Model: \"sequential_4\"\n",
            "_________________________________________________________________\n",
            "Layer (type)                 Output Shape              Param #   \n",
            "=================================================================\n",
            "dense_12 (Dense)             (None, 1024)              803840    \n",
            "_________________________________________________________________\n",
            "dense_13 (Dense)             (None, 1024)              1049600   \n",
            "_________________________________________________________________\n",
            "dense_14 (Dense)             (None, 10)                10250     \n",
            "=================================================================\n",
            "Total params: 1,863,690\n",
            "Trainable params: 1,863,690\n",
            "Non-trainable params: 0\n",
            "_________________________________________________________________\n"
          ],
          "name": "stdout"
        }
      ]
    },
    {
      "cell_type": "code",
      "metadata": {
        "id": "fFw7J0E1lybt"
      },
      "source": [
        "model.compile(optimizer='sgd', loss='categorical_crossentropy',\n",
        "              metrics=['accuracy'])"
      ],
      "execution_count": null,
      "outputs": []
    },
    {
      "cell_type": "code",
      "metadata": {
        "colab": {
          "base_uri": "https://localhost:8080/"
        },
        "id": "mzM1mNT0lybt",
        "outputId": "683e6565-890b-415d-bd78-7f304e045361"
      },
      "source": [
        "# Setting `verbose=1` prints out some results after each epoch\n",
        "model.fit(X_train, Y_train, batch_size=128, epochs=20, verbose=1)"
      ],
      "execution_count": null,
      "outputs": [
        {
          "output_type": "stream",
          "text": [
            "Epoch 1/20\n",
            "469/469 [==============================] - 17s 36ms/step - loss: 2.2552 - accuracy: 0.2072\n",
            "Epoch 2/20\n",
            "469/469 [==============================] - 17s 36ms/step - loss: 2.0050 - accuracy: 0.4983\n",
            "Epoch 3/20\n",
            "469/469 [==============================] - 17s 37ms/step - loss: 1.6596 - accuracy: 0.5902\n",
            "Epoch 4/20\n",
            "469/469 [==============================] - 17s 37ms/step - loss: 1.3599 - accuracy: 0.6356\n",
            "Epoch 5/20\n",
            "469/469 [==============================] - 17s 36ms/step - loss: 1.1721 - accuracy: 0.6641\n",
            "Epoch 6/20\n",
            "469/469 [==============================] - 17s 35ms/step - loss: 1.0517 - accuracy: 0.6878\n",
            "Epoch 7/20\n",
            "469/469 [==============================] - 17s 36ms/step - loss: 0.9627 - accuracy: 0.7023\n",
            "Epoch 8/20\n",
            "469/469 [==============================] - 17s 37ms/step - loss: 0.8984 - accuracy: 0.7137\n",
            "Epoch 9/20\n",
            "469/469 [==============================] - 18s 38ms/step - loss: 0.8502 - accuracy: 0.7199\n",
            "Epoch 10/20\n",
            "469/469 [==============================] - 17s 37ms/step - loss: 0.8107 - accuracy: 0.7293\n",
            "Epoch 11/20\n",
            "469/469 [==============================] - 17s 37ms/step - loss: 0.7745 - accuracy: 0.7337\n",
            "Epoch 12/20\n",
            "469/469 [==============================] - 17s 36ms/step - loss: 0.7461 - accuracy: 0.7419\n",
            "Epoch 13/20\n",
            "469/469 [==============================] - 17s 37ms/step - loss: 0.7265 - accuracy: 0.7443\n",
            "Epoch 14/20\n",
            "469/469 [==============================] - 17s 37ms/step - loss: 0.7095 - accuracy: 0.7446\n",
            "Epoch 15/20\n",
            "469/469 [==============================] - 18s 37ms/step - loss: 0.6930 - accuracy: 0.7490\n",
            "Epoch 16/20\n",
            "469/469 [==============================] - 17s 37ms/step - loss: 0.6827 - accuracy: 0.7501\n",
            "Epoch 17/20\n",
            "469/469 [==============================] - 18s 37ms/step - loss: 0.6690 - accuracy: 0.7565\n",
            "Epoch 18/20\n",
            "469/469 [==============================] - 18s 38ms/step - loss: 0.6552 - accuracy: 0.7596\n",
            "Epoch 19/20\n",
            "469/469 [==============================] - 18s 37ms/step - loss: 0.6432 - accuracy: 0.7640\n",
            "Epoch 20/20\n",
            "469/469 [==============================] - 18s 39ms/step - loss: 0.6355 - accuracy: 0.7639\n"
          ],
          "name": "stdout"
        },
        {
          "output_type": "execute_result",
          "data": {
            "text/plain": [
              "<tensorflow.python.keras.callbacks.History at 0x7f0fe860a550>"
            ]
          },
          "metadata": {
            "tags": []
          },
          "execution_count": 31
        }
      ]
    },
    {
      "cell_type": "code",
      "metadata": {
        "colab": {
          "base_uri": "https://localhost:8080/"
        },
        "id": "hzKxQlHXlybt",
        "outputId": "8dfaa29a-2acd-4057-d893-01921fa60ae2"
      },
      "source": [
        "score = model.evaluate(X_test, Y_test, verbose=0)\n",
        "train_score = model.evaluate(X_train, Y_train, verbose=0)\n",
        "train_acc.append(train_score[1])\n",
        "test_acc.append(score[1])\n",
        "print('Test accuracy:', score[1])"
      ],
      "execution_count": null,
      "outputs": [
        {
          "output_type": "stream",
          "text": [
            "Test accuracy: 0.7699999809265137\n"
          ],
          "name": "stdout"
        }
      ]
    },
    {
      "cell_type": "markdown",
      "metadata": {
        "id": "19OGduQSJPgy"
      },
      "source": [
        "We can see that the training score and test score are really close, not having many concerns about overfitting here. However, this is pretty innacurate compared to the tanh model."
      ]
    },
    {
      "cell_type": "code",
      "metadata": {
        "id": "Hky4tPYADTMV"
      },
      "source": [
        "model = Sequential()\n",
        "# The first dense layer\n",
        "model.add(Dense(1024, input_shape=(784,), activation=\"sigmoid\"))\n",
        "# The second dense layer\n",
        "model.add(Dense(1024, input_shape=(784,), activation=\"sigmoid\"))\n",
        "# The last layer is the output layer\n",
        "model.add(Dense(10, activation=\"softmax\"))"
      ],
      "execution_count": null,
      "outputs": []
    },
    {
      "cell_type": "code",
      "metadata": {
        "colab": {
          "base_uri": "https://localhost:8080/"
        },
        "id": "wNxeRNykDTMW",
        "outputId": "9ae0f584-7aeb-4c8b-cf76-6d922043ff0a"
      },
      "source": [
        "model.summary()"
      ],
      "execution_count": null,
      "outputs": [
        {
          "output_type": "stream",
          "text": [
            "Model: \"sequential_5\"\n",
            "_________________________________________________________________\n",
            "Layer (type)                 Output Shape              Param #   \n",
            "=================================================================\n",
            "dense_15 (Dense)             (None, 1024)              803840    \n",
            "_________________________________________________________________\n",
            "dense_16 (Dense)             (None, 1024)              1049600   \n",
            "_________________________________________________________________\n",
            "dense_17 (Dense)             (None, 10)                10250     \n",
            "=================================================================\n",
            "Total params: 1,863,690\n",
            "Trainable params: 1,863,690\n",
            "Non-trainable params: 0\n",
            "_________________________________________________________________\n"
          ],
          "name": "stdout"
        }
      ]
    },
    {
      "cell_type": "code",
      "metadata": {
        "id": "T9r6ZtF-DTMW"
      },
      "source": [
        "model.compile(optimizer='sgd', loss='categorical_crossentropy',\n",
        "              metrics=['accuracy'])"
      ],
      "execution_count": null,
      "outputs": []
    },
    {
      "cell_type": "code",
      "metadata": {
        "colab": {
          "base_uri": "https://localhost:8080/"
        },
        "id": "Simq-7yPlybu",
        "outputId": "4de7fc2a-4431-4407-dc5e-3291e1fa58a9"
      },
      "source": [
        "# Setting `verbose=1` prints out some results after each epoch\n",
        "model.fit(X_train, Y_train, batch_size=60000, epochs=20, verbose=1)"
      ],
      "execution_count": null,
      "outputs": [
        {
          "output_type": "stream",
          "text": [
            "Epoch 1/20\n",
            "1/1 [==============================] - 10s 10s/step - loss: 2.4577 - accuracy: 0.1001\n",
            "Epoch 2/20\n",
            "1/1 [==============================] - 10s 10s/step - loss: 2.3861 - accuracy: 0.1001\n",
            "Epoch 3/20\n",
            "1/1 [==============================] - 10s 10s/step - loss: 2.3462 - accuracy: 0.1003\n",
            "Epoch 4/20\n",
            "1/1 [==============================] - 10s 10s/step - loss: 2.3240 - accuracy: 0.1107\n",
            "Epoch 5/20\n",
            "1/1 [==============================] - 10s 10s/step - loss: 2.3120 - accuracy: 0.1311\n",
            "Epoch 6/20\n",
            "1/1 [==============================] - 9s 9s/step - loss: 2.3055 - accuracy: 0.1430\n",
            "Epoch 7/20\n",
            "1/1 [==============================] - 10s 10s/step - loss: 2.3020 - accuracy: 0.1517\n",
            "Epoch 8/20\n",
            "1/1 [==============================] - 10s 10s/step - loss: 2.3000 - accuracy: 0.1694\n",
            "Epoch 9/20\n",
            "1/1 [==============================] - 10s 10s/step - loss: 2.2987 - accuracy: 0.1950\n",
            "Epoch 10/20\n",
            "1/1 [==============================] - 10s 10s/step - loss: 2.2979 - accuracy: 0.2095\n",
            "Epoch 11/20\n",
            "1/1 [==============================] - 10s 10s/step - loss: 2.2973 - accuracy: 0.2156\n",
            "Epoch 12/20\n",
            "1/1 [==============================] - 10s 10s/step - loss: 2.2967 - accuracy: 0.2140\n",
            "Epoch 13/20\n",
            "1/1 [==============================] - 10s 10s/step - loss: 2.2962 - accuracy: 0.2109\n",
            "Epoch 14/20\n",
            "1/1 [==============================] - 10s 10s/step - loss: 2.2958 - accuracy: 0.2040\n",
            "Epoch 15/20\n",
            "1/1 [==============================] - 10s 10s/step - loss: 2.2953 - accuracy: 0.1959\n",
            "Epoch 16/20\n",
            "1/1 [==============================] - 10s 10s/step - loss: 2.2949 - accuracy: 0.1919\n",
            "Epoch 17/20\n",
            "1/1 [==============================] - 10s 10s/step - loss: 2.2944 - accuracy: 0.1900\n",
            "Epoch 18/20\n",
            "1/1 [==============================] - 10s 10s/step - loss: 2.2940 - accuracy: 0.1901\n",
            "Epoch 19/20\n",
            "1/1 [==============================] - 10s 10s/step - loss: 2.2935 - accuracy: 0.1911\n",
            "Epoch 20/20\n",
            "1/1 [==============================] - 10s 10s/step - loss: 2.2931 - accuracy: 0.1933\n"
          ],
          "name": "stdout"
        },
        {
          "output_type": "execute_result",
          "data": {
            "text/plain": [
              "<tensorflow.python.keras.callbacks.History at 0x7f0fe74a30d0>"
            ]
          },
          "metadata": {
            "tags": []
          },
          "execution_count": 36
        }
      ]
    },
    {
      "cell_type": "code",
      "metadata": {
        "colab": {
          "base_uri": "https://localhost:8080/"
        },
        "id": "UdEpwb2flybv",
        "outputId": "5ffc2f95-c3ee-4ddc-88f2-d3983d68cc4f"
      },
      "source": [
        "score = model.evaluate(X_test, Y_test, verbose=0)\n",
        "train_score = model.evaluate(X_train, Y_train, verbose=0)\n",
        "train_acc.append(train_score[1])\n",
        "test_acc.append(score[1])\n",
        "print('Test accuracy:', score[1])"
      ],
      "execution_count": null,
      "outputs": [
        {
          "output_type": "stream",
          "text": [
            "Test accuracy: 0.19110000133514404\n"
          ],
          "name": "stdout"
        }
      ]
    },
    {
      "cell_type": "markdown",
      "metadata": {
        "id": "oRlU5LeEJYWu"
      },
      "source": [
        "We can see that the training score and test score are really close, not having many concerns about overfitting here. Not using this model, super inaccurate."
      ]
    },
    {
      "cell_type": "code",
      "metadata": {
        "id": "65OkLPXAlybv"
      },
      "source": [
        "model = Sequential()\n",
        "# The first dense layer\n",
        "model.add(Dense(64, input_shape=(784,), activation=\"sigmoid\"))\n",
        "# The second dense layer\n",
        "model.add(Dense(32, input_shape=(784,), activation=\"sigmoid\"))\n",
        "# The last layer is the output layer\n",
        "model.add(Dense(10, activation=\"softmax\"))"
      ],
      "execution_count": null,
      "outputs": []
    },
    {
      "cell_type": "code",
      "metadata": {
        "colab": {
          "base_uri": "https://localhost:8080/"
        },
        "id": "T7NOyn3-lybw",
        "outputId": "43a198d8-ee15-443b-d0e5-1e5022e9922a"
      },
      "source": [
        "model.summary()"
      ],
      "execution_count": null,
      "outputs": [
        {
          "output_type": "stream",
          "text": [
            "Model: \"sequential_6\"\n",
            "_________________________________________________________________\n",
            "Layer (type)                 Output Shape              Param #   \n",
            "=================================================================\n",
            "dense_18 (Dense)             (None, 64)                50240     \n",
            "_________________________________________________________________\n",
            "dense_19 (Dense)             (None, 32)                2080      \n",
            "_________________________________________________________________\n",
            "dense_20 (Dense)             (None, 10)                330       \n",
            "=================================================================\n",
            "Total params: 52,650\n",
            "Trainable params: 52,650\n",
            "Non-trainable params: 0\n",
            "_________________________________________________________________\n"
          ],
          "name": "stdout"
        }
      ]
    },
    {
      "cell_type": "code",
      "metadata": {
        "id": "ma4zooTPlybw"
      },
      "source": [
        "model.compile(optimizer='sgd', loss='categorical_crossentropy',\n",
        "              metrics=['accuracy'])"
      ],
      "execution_count": null,
      "outputs": []
    },
    {
      "cell_type": "code",
      "metadata": {
        "colab": {
          "base_uri": "https://localhost:8080/"
        },
        "id": "xAeDbBGvlybw",
        "outputId": "605aa67a-092f-4a08-f3a9-659f35ff4bfe"
      },
      "source": [
        "# Setting `verbose=1` prints out some results after each epoch\n",
        "model.fit(X_train, Y_train, batch_size=128, epochs=20, verbose=1)"
      ],
      "execution_count": null,
      "outputs": [
        {
          "output_type": "stream",
          "text": [
            "Epoch 1/20\n",
            "469/469 [==============================] - 1s 2ms/step - loss: 2.3468 - accuracy: 0.1957\n",
            "Epoch 2/20\n",
            "469/469 [==============================] - 1s 2ms/step - loss: 2.2007 - accuracy: 0.4529\n",
            "Epoch 3/20\n",
            "469/469 [==============================] - 1s 2ms/step - loss: 2.0859 - accuracy: 0.4758\n",
            "Epoch 4/20\n",
            "469/469 [==============================] - 1s 2ms/step - loss: 1.9231 - accuracy: 0.5042\n",
            "Epoch 5/20\n",
            "469/469 [==============================] - 1s 2ms/step - loss: 1.7495 - accuracy: 0.5651\n",
            "Epoch 6/20\n",
            "469/469 [==============================] - 1s 2ms/step - loss: 1.5967 - accuracy: 0.5814\n",
            "Epoch 7/20\n",
            "469/469 [==============================] - 1s 2ms/step - loss: 1.4747 - accuracy: 0.5970\n",
            "Epoch 8/20\n",
            "469/469 [==============================] - 1s 3ms/step - loss: 1.3789 - accuracy: 0.6081\n",
            "Epoch 9/20\n",
            "469/469 [==============================] - 1s 2ms/step - loss: 1.2956 - accuracy: 0.6217\n",
            "Epoch 10/20\n",
            "469/469 [==============================] - 1s 2ms/step - loss: 1.2276 - accuracy: 0.6303\n",
            "Epoch 11/20\n",
            "469/469 [==============================] - 1s 2ms/step - loss: 1.1646 - accuracy: 0.6434\n",
            "Epoch 12/20\n",
            "469/469 [==============================] - 1s 3ms/step - loss: 1.1115 - accuracy: 0.6489\n",
            "Epoch 13/20\n",
            "469/469 [==============================] - 1s 2ms/step - loss: 1.0699 - accuracy: 0.6630\n",
            "Epoch 14/20\n",
            "469/469 [==============================] - 1s 3ms/step - loss: 1.0269 - accuracy: 0.6750\n",
            "Epoch 15/20\n",
            "469/469 [==============================] - 1s 3ms/step - loss: 0.9945 - accuracy: 0.6835\n",
            "Epoch 16/20\n",
            "469/469 [==============================] - 1s 2ms/step - loss: 0.9635 - accuracy: 0.6951\n",
            "Epoch 17/20\n",
            "469/469 [==============================] - 1s 2ms/step - loss: 0.9300 - accuracy: 0.7051\n",
            "Epoch 18/20\n",
            "469/469 [==============================] - 1s 2ms/step - loss: 0.9086 - accuracy: 0.7096\n",
            "Epoch 19/20\n",
            "469/469 [==============================] - 1s 2ms/step - loss: 0.8853 - accuracy: 0.7168\n",
            "Epoch 20/20\n",
            "469/469 [==============================] - 1s 2ms/step - loss: 0.8560 - accuracy: 0.7229\n"
          ],
          "name": "stdout"
        },
        {
          "output_type": "execute_result",
          "data": {
            "text/plain": [
              "<tensorflow.python.keras.callbacks.History at 0x7f0fe52f6510>"
            ]
          },
          "metadata": {
            "tags": []
          },
          "execution_count": 41
        }
      ]
    },
    {
      "cell_type": "code",
      "metadata": {
        "colab": {
          "base_uri": "https://localhost:8080/"
        },
        "id": "cl-SDiWRlybw",
        "outputId": "b7ce9fc8-aeb8-4369-f202-d9fc7be78456"
      },
      "source": [
        "score = model.evaluate(X_test, Y_test, verbose=0)\n",
        "train_score = model.evaluate(X_train, Y_train, verbose=0)\n",
        "train_acc.append(train_score[1])\n",
        "test_acc.append(score[1])\n",
        "print('Test accuracy:', score[1])"
      ],
      "execution_count": null,
      "outputs": [
        {
          "output_type": "stream",
          "text": [
            "Test accuracy: 0.7231000065803528\n"
          ],
          "name": "stdout"
        }
      ]
    },
    {
      "cell_type": "markdown",
      "metadata": {
        "id": "OahMLHQAJcI0"
      },
      "source": [
        "We can see that the training score and test score are really close, not having many concerns about overfitting here. It seems like sigmoid is consistently less accurate than tanh."
      ]
    },
    {
      "cell_type": "code",
      "metadata": {
        "id": "Wxl9FknUDVYt"
      },
      "source": [
        "model = Sequential()\n",
        "# The first dense layer\n",
        "model.add(Dense(64, input_shape=(784,), activation=\"sigmoid\"))\n",
        "# The second dense layer\n",
        "model.add(Dense(32, input_shape=(784,), activation=\"sigmoid\"))\n",
        "# The last layer is the output layer\n",
        "model.add(Dense(10, activation=\"softmax\"))"
      ],
      "execution_count": null,
      "outputs": []
    },
    {
      "cell_type": "code",
      "metadata": {
        "colab": {
          "base_uri": "https://localhost:8080/"
        },
        "id": "8yPjK7wkDVYu",
        "outputId": "71de2b99-d9ba-4e76-e50b-90e015c37968"
      },
      "source": [
        "model.summary()"
      ],
      "execution_count": null,
      "outputs": [
        {
          "output_type": "stream",
          "text": [
            "Model: \"sequential_7\"\n",
            "_________________________________________________________________\n",
            "Layer (type)                 Output Shape              Param #   \n",
            "=================================================================\n",
            "dense_21 (Dense)             (None, 64)                50240     \n",
            "_________________________________________________________________\n",
            "dense_22 (Dense)             (None, 32)                2080      \n",
            "_________________________________________________________________\n",
            "dense_23 (Dense)             (None, 10)                330       \n",
            "=================================================================\n",
            "Total params: 52,650\n",
            "Trainable params: 52,650\n",
            "Non-trainable params: 0\n",
            "_________________________________________________________________\n"
          ],
          "name": "stdout"
        }
      ]
    },
    {
      "cell_type": "code",
      "metadata": {
        "id": "Zj-MylSXDVYu"
      },
      "source": [
        "model.compile(optimizer='sgd', loss='categorical_crossentropy',\n",
        "              metrics=['accuracy'])"
      ],
      "execution_count": null,
      "outputs": []
    },
    {
      "cell_type": "code",
      "metadata": {
        "colab": {
          "base_uri": "https://localhost:8080/"
        },
        "id": "AR2ZkOkblybw",
        "outputId": "cba2979a-68fc-4e4f-98a6-5cea0cc1c2fd"
      },
      "source": [
        "# Setting `verbose=1` prints out some results after each epoch\n",
        "model.fit(X_train, Y_train, batch_size=60000, epochs=20, verbose=1)"
      ],
      "execution_count": null,
      "outputs": [
        {
          "output_type": "stream",
          "text": [
            "Epoch 1/20\n",
            "1/1 [==============================] - 1s 789ms/step - loss: 2.4648 - accuracy: 0.1000\n",
            "Epoch 2/20\n",
            "1/1 [==============================] - 0s 362ms/step - loss: 2.4603 - accuracy: 0.1000\n",
            "Epoch 3/20\n",
            "1/1 [==============================] - 0s 370ms/step - loss: 2.4560 - accuracy: 0.1000\n",
            "Epoch 4/20\n",
            "1/1 [==============================] - 0s 377ms/step - loss: 2.4518 - accuracy: 0.1000\n",
            "Epoch 5/20\n",
            "1/1 [==============================] - 0s 396ms/step - loss: 2.4477 - accuracy: 0.1000\n",
            "Epoch 6/20\n",
            "1/1 [==============================] - 0s 371ms/step - loss: 2.4437 - accuracy: 0.1000\n",
            "Epoch 7/20\n",
            "1/1 [==============================] - 0s 374ms/step - loss: 2.4399 - accuracy: 0.1000\n",
            "Epoch 8/20\n",
            "1/1 [==============================] - 0s 381ms/step - loss: 2.4361 - accuracy: 0.1000\n",
            "Epoch 9/20\n",
            "1/1 [==============================] - 0s 367ms/step - loss: 2.4325 - accuracy: 0.1000\n",
            "Epoch 10/20\n",
            "1/1 [==============================] - 0s 380ms/step - loss: 2.4290 - accuracy: 0.1000\n",
            "Epoch 11/20\n",
            "1/1 [==============================] - 0s 380ms/step - loss: 2.4255 - accuracy: 0.1000\n",
            "Epoch 12/20\n",
            "1/1 [==============================] - 0s 374ms/step - loss: 2.4222 - accuracy: 0.1000\n",
            "Epoch 13/20\n",
            "1/1 [==============================] - 0s 376ms/step - loss: 2.4190 - accuracy: 0.1000\n",
            "Epoch 14/20\n",
            "1/1 [==============================] - 0s 381ms/step - loss: 2.4158 - accuracy: 0.1000\n",
            "Epoch 15/20\n",
            "1/1 [==============================] - 0s 381ms/step - loss: 2.4127 - accuracy: 0.1000\n",
            "Epoch 16/20\n",
            "1/1 [==============================] - 0s 368ms/step - loss: 2.4097 - accuracy: 0.1000\n",
            "Epoch 17/20\n",
            "1/1 [==============================] - 0s 375ms/step - loss: 2.4068 - accuracy: 0.1000\n",
            "Epoch 18/20\n",
            "1/1 [==============================] - 0s 383ms/step - loss: 2.4040 - accuracy: 0.1000\n",
            "Epoch 19/20\n",
            "1/1 [==============================] - 0s 336ms/step - loss: 2.4012 - accuracy: 0.1000\n",
            "Epoch 20/20\n",
            "1/1 [==============================] - 0s 332ms/step - loss: 2.3985 - accuracy: 0.1000\n"
          ],
          "name": "stdout"
        },
        {
          "output_type": "execute_result",
          "data": {
            "text/plain": [
              "<tensorflow.python.keras.callbacks.History at 0x7f0fe419ae10>"
            ]
          },
          "metadata": {
            "tags": []
          },
          "execution_count": 46
        }
      ]
    },
    {
      "cell_type": "code",
      "metadata": {
        "colab": {
          "base_uri": "https://localhost:8080/"
        },
        "id": "dY7q7TsJlybx",
        "outputId": "ed29de33-92c2-4e6f-bef3-31b58c8e6f9f"
      },
      "source": [
        "score = model.evaluate(X_test, Y_test, verbose=0)\n",
        "train_score = model.evaluate(X_train, Y_train, verbose=0)\n",
        "train_acc.append(train_score[1])\n",
        "test_acc.append(score[1])\n",
        "print('Test accuracy:', score[1])"
      ],
      "execution_count": null,
      "outputs": [
        {
          "output_type": "stream",
          "text": [
            "Test accuracy: 0.10010000318288803\n"
          ],
          "name": "stdout"
        }
      ]
    },
    {
      "cell_type": "markdown",
      "metadata": {
        "id": "YEcAMPBiJhxz"
      },
      "source": [
        "We can see that the training score and test score are really close, not having many concerns about overfitting here. Not using this model."
      ]
    },
    {
      "cell_type": "markdown",
      "metadata": {
        "id": "eSYrOFaFmAy0"
      },
      "source": [
        "##3-layer, relu"
      ]
    },
    {
      "cell_type": "code",
      "metadata": {
        "id": "qSotpjstmF6Q"
      },
      "source": [
        "model = Sequential()\n",
        "# The first dense layer\n",
        "model.add(Dense(1024, input_shape=(784,), activation=\"relu\"))\n",
        "# The second dense layer\n",
        "model.add(Dense(1024, input_shape=(784,), activation=\"relu\"))\n",
        "# The last layer is the output layer\n",
        "model.add(Dense(10, activation=\"softmax\"))"
      ],
      "execution_count": null,
      "outputs": []
    },
    {
      "cell_type": "code",
      "metadata": {
        "colab": {
          "base_uri": "https://localhost:8080/"
        },
        "id": "vRVpJQOamF6R",
        "outputId": "6c882038-a1c0-4392-fecf-758ed6626c13"
      },
      "source": [
        "model.summary()"
      ],
      "execution_count": null,
      "outputs": [
        {
          "output_type": "stream",
          "text": [
            "Model: \"sequential_8\"\n",
            "_________________________________________________________________\n",
            "Layer (type)                 Output Shape              Param #   \n",
            "=================================================================\n",
            "dense_24 (Dense)             (None, 1024)              803840    \n",
            "_________________________________________________________________\n",
            "dense_25 (Dense)             (None, 1024)              1049600   \n",
            "_________________________________________________________________\n",
            "dense_26 (Dense)             (None, 10)                10250     \n",
            "=================================================================\n",
            "Total params: 1,863,690\n",
            "Trainable params: 1,863,690\n",
            "Non-trainable params: 0\n",
            "_________________________________________________________________\n"
          ],
          "name": "stdout"
        }
      ]
    },
    {
      "cell_type": "code",
      "metadata": {
        "id": "Bjd-IIY_mF6S"
      },
      "source": [
        "model.compile(optimizer='sgd', loss='categorical_crossentropy',\n",
        "              metrics=['accuracy'])"
      ],
      "execution_count": null,
      "outputs": []
    },
    {
      "cell_type": "code",
      "metadata": {
        "colab": {
          "base_uri": "https://localhost:8080/"
        },
        "id": "COZyp_F_mF6S",
        "outputId": "5b7989da-beca-4156-e43f-69aefcf13c20"
      },
      "source": [
        "# Setting `verbose=1` prints out some results after each epoch\n",
        "model.fit(X_train, Y_train, batch_size=128, epochs=20, verbose=1)"
      ],
      "execution_count": null,
      "outputs": [
        {
          "output_type": "stream",
          "text": [
            "Epoch 1/20\n",
            "469/469 [==============================] - 17s 37ms/step - loss: 1.3269 - accuracy: 0.6068\n",
            "Epoch 2/20\n",
            "469/469 [==============================] - 17s 36ms/step - loss: 0.6386 - accuracy: 0.7929\n",
            "Epoch 3/20\n",
            "469/469 [==============================] - 17s 37ms/step - loss: 0.5469 - accuracy: 0.8219\n",
            "Epoch 4/20\n",
            "469/469 [==============================] - 17s 37ms/step - loss: 0.5014 - accuracy: 0.8307\n",
            "Epoch 5/20\n",
            "469/469 [==============================] - 18s 37ms/step - loss: 0.4733 - accuracy: 0.8388\n",
            "Epoch 6/20\n",
            "469/469 [==============================] - 18s 37ms/step - loss: 0.4559 - accuracy: 0.8446\n",
            "Epoch 7/20\n",
            "469/469 [==============================] - 18s 38ms/step - loss: 0.4412 - accuracy: 0.8461\n",
            "Epoch 8/20\n",
            "469/469 [==============================] - 19s 40ms/step - loss: 0.4259 - accuracy: 0.8524\n",
            "Epoch 9/20\n",
            "469/469 [==============================] - 17s 37ms/step - loss: 0.4205 - accuracy: 0.8538\n",
            "Epoch 10/20\n",
            "469/469 [==============================] - 17s 36ms/step - loss: 0.4066 - accuracy: 0.8591\n",
            "Epoch 11/20\n",
            "469/469 [==============================] - 17s 36ms/step - loss: 0.4047 - accuracy: 0.8597\n",
            "Epoch 12/20\n",
            "469/469 [==============================] - 18s 37ms/step - loss: 0.3983 - accuracy: 0.8611\n",
            "Epoch 13/20\n",
            "469/469 [==============================] - 18s 39ms/step - loss: 0.3929 - accuracy: 0.8625\n",
            "Epoch 14/20\n",
            "469/469 [==============================] - 18s 38ms/step - loss: 0.3819 - accuracy: 0.8653\n",
            "Epoch 15/20\n",
            "469/469 [==============================] - 17s 36ms/step - loss: 0.3792 - accuracy: 0.8673\n",
            "Epoch 16/20\n",
            "469/469 [==============================] - 18s 37ms/step - loss: 0.3763 - accuracy: 0.8682\n",
            "Epoch 17/20\n",
            "469/469 [==============================] - 17s 36ms/step - loss: 0.3676 - accuracy: 0.8722\n",
            "Epoch 18/20\n",
            "469/469 [==============================] - 18s 38ms/step - loss: 0.3618 - accuracy: 0.8743\n",
            "Epoch 19/20\n",
            "469/469 [==============================] - 18s 39ms/step - loss: 0.3566 - accuracy: 0.8758\n",
            "Epoch 20/20\n",
            "469/469 [==============================] - 17s 37ms/step - loss: 0.3575 - accuracy: 0.8753\n"
          ],
          "name": "stdout"
        },
        {
          "output_type": "execute_result",
          "data": {
            "text/plain": [
              "<tensorflow.python.keras.callbacks.History at 0x7f0fe1fb9450>"
            ]
          },
          "metadata": {
            "tags": []
          },
          "execution_count": 51
        }
      ]
    },
    {
      "cell_type": "code",
      "metadata": {
        "colab": {
          "base_uri": "https://localhost:8080/"
        },
        "id": "ELCIMsnCmF6T",
        "outputId": "d045926e-f908-4987-9302-395fe0b0913b"
      },
      "source": [
        "score = model.evaluate(X_test, Y_test, verbose=0)\n",
        "train_score = model.evaluate(X_train, Y_train, verbose=0)\n",
        "train_acc.append(train_score[1])\n",
        "test_acc.append(score[1])\n",
        "print('Test accuracy:', score[1])"
      ],
      "execution_count": null,
      "outputs": [
        {
          "output_type": "stream",
          "text": [
            "Test accuracy: 0.8669999837875366\n"
          ],
          "name": "stdout"
        }
      ]
    },
    {
      "cell_type": "markdown",
      "metadata": {
        "id": "vQ_2ERtVLHtA"
      },
      "source": [
        "We can see that the training score and test score are really close, not having many concerns about overfitting here. This also looks like the most accurate model so far, promising for relu."
      ]
    },
    {
      "cell_type": "code",
      "metadata": {
        "id": "gXmq45jEDawm"
      },
      "source": [
        "model = Sequential()\n",
        "# The first dense layer\n",
        "model.add(Dense(1024, input_shape=(784,), activation=\"relu\"))\n",
        "# The second dense layer\n",
        "model.add(Dense(1024, input_shape=(784,), activation=\"relu\"))\n",
        "# The last layer is the output layer\n",
        "model.add(Dense(10, activation=\"softmax\"))"
      ],
      "execution_count": null,
      "outputs": []
    },
    {
      "cell_type": "code",
      "metadata": {
        "colab": {
          "base_uri": "https://localhost:8080/"
        },
        "id": "LYitwqXPDawn",
        "outputId": "898729bb-a252-4de5-8380-141a3604fb12"
      },
      "source": [
        "model.summary()"
      ],
      "execution_count": null,
      "outputs": [
        {
          "output_type": "stream",
          "text": [
            "Model: \"sequential_9\"\n",
            "_________________________________________________________________\n",
            "Layer (type)                 Output Shape              Param #   \n",
            "=================================================================\n",
            "dense_27 (Dense)             (None, 1024)              803840    \n",
            "_________________________________________________________________\n",
            "dense_28 (Dense)             (None, 1024)              1049600   \n",
            "_________________________________________________________________\n",
            "dense_29 (Dense)             (None, 10)                10250     \n",
            "=================================================================\n",
            "Total params: 1,863,690\n",
            "Trainable params: 1,863,690\n",
            "Non-trainable params: 0\n",
            "_________________________________________________________________\n"
          ],
          "name": "stdout"
        }
      ]
    },
    {
      "cell_type": "code",
      "metadata": {
        "id": "JZ6A-R1lDawn"
      },
      "source": [
        "model.compile(optimizer='sgd', loss='categorical_crossentropy',\n",
        "              metrics=['accuracy'])"
      ],
      "execution_count": null,
      "outputs": []
    },
    {
      "cell_type": "code",
      "metadata": {
        "colab": {
          "base_uri": "https://localhost:8080/"
        },
        "id": "O9LZp8zGmF6T",
        "outputId": "7507c549-c7f8-408d-cad1-e8c130b2c884"
      },
      "source": [
        "# Setting `verbose=1` prints out some results after each epoch\n",
        "model.fit(X_train, Y_train, batch_size=60000, epochs=20, verbose=1)"
      ],
      "execution_count": null,
      "outputs": [
        {
          "output_type": "stream",
          "text": [
            "Epoch 1/20\n",
            "1/1 [==============================] - 10s 10s/step - loss: 2.3425 - accuracy: 0.1553\n",
            "Epoch 2/20\n",
            "1/1 [==============================] - 10s 10s/step - loss: 2.3045 - accuracy: 0.1583\n",
            "Epoch 3/20\n",
            "1/1 [==============================] - 10s 10s/step - loss: 2.2700 - accuracy: 0.1633\n",
            "Epoch 4/20\n",
            "1/1 [==============================] - 10s 10s/step - loss: 2.2383 - accuracy: 0.1702\n",
            "Epoch 5/20\n",
            "1/1 [==============================] - 10s 10s/step - loss: 2.2088 - accuracy: 0.1824\n",
            "Epoch 6/20\n",
            "1/1 [==============================] - 10s 10s/step - loss: 2.1810 - accuracy: 0.2046\n",
            "Epoch 7/20\n",
            "1/1 [==============================] - 10s 10s/step - loss: 2.1547 - accuracy: 0.2366\n",
            "Epoch 8/20\n",
            "1/1 [==============================] - 10s 10s/step - loss: 2.1295 - accuracy: 0.2691\n",
            "Epoch 9/20\n",
            "1/1 [==============================] - 10s 10s/step - loss: 2.1054 - accuracy: 0.3002\n",
            "Epoch 10/20\n",
            "1/1 [==============================] - 10s 10s/step - loss: 2.0821 - accuracy: 0.3342\n",
            "Epoch 11/20\n",
            "1/1 [==============================] - 10s 10s/step - loss: 2.0595 - accuracy: 0.3712\n",
            "Epoch 12/20\n",
            "1/1 [==============================] - 10s 10s/step - loss: 2.0376 - accuracy: 0.4075\n",
            "Epoch 13/20\n",
            "1/1 [==============================] - 10s 10s/step - loss: 2.0163 - accuracy: 0.4406\n",
            "Epoch 14/20\n",
            "1/1 [==============================] - 10s 10s/step - loss: 1.9955 - accuracy: 0.4692\n",
            "Epoch 15/20\n",
            "1/1 [==============================] - 10s 10s/step - loss: 1.9752 - accuracy: 0.4942\n",
            "Epoch 16/20\n",
            "1/1 [==============================] - 10s 10s/step - loss: 1.9554 - accuracy: 0.5164\n",
            "Epoch 17/20\n",
            "1/1 [==============================] - 10s 10s/step - loss: 1.9359 - accuracy: 0.5366\n",
            "Epoch 18/20\n",
            "1/1 [==============================] - 10s 10s/step - loss: 1.9169 - accuracy: 0.5531\n",
            "Epoch 19/20\n",
            "1/1 [==============================] - 10s 10s/step - loss: 1.8983 - accuracy: 0.5680\n",
            "Epoch 20/20\n",
            "1/1 [==============================] - 9s 9s/step - loss: 1.8800 - accuracy: 0.5799\n"
          ],
          "name": "stdout"
        },
        {
          "output_type": "execute_result",
          "data": {
            "text/plain": [
              "<tensorflow.python.keras.callbacks.History at 0x7f0fe0e8b910>"
            ]
          },
          "metadata": {
            "tags": []
          },
          "execution_count": 56
        }
      ]
    },
    {
      "cell_type": "code",
      "metadata": {
        "colab": {
          "base_uri": "https://localhost:8080/"
        },
        "id": "F97HRvl7mF6T",
        "outputId": "8af2b3e6-77c7-4e85-ed19-f2c02d93657a"
      },
      "source": [
        "score = model.evaluate(X_test, Y_test, verbose=0)\n",
        "train_score = model.evaluate(X_train, Y_train, verbose=0)\n",
        "train_acc.append(train_score[1])\n",
        "test_acc.append(score[1])\n",
        "print('Test accuracy:', score[1])"
      ],
      "execution_count": null,
      "outputs": [
        {
          "output_type": "stream",
          "text": [
            "Test accuracy: 0.5936999917030334\n"
          ],
          "name": "stdout"
        }
      ]
    },
    {
      "cell_type": "markdown",
      "metadata": {
        "id": "H88FxmJ_LPh1"
      },
      "source": [
        "Full batch size doesnt seem to be working well."
      ]
    },
    {
      "cell_type": "code",
      "metadata": {
        "id": "hnIr_lV7mF6U"
      },
      "source": [
        "model = Sequential()\n",
        "# The first dense layer\n",
        "model.add(Dense(64, input_shape=(784,), activation=\"relu\"))\n",
        "# The second dense layer\n",
        "model.add(Dense(32, input_shape=(784,), activation=\"relu\"))\n",
        "# The last layer is the output layer\n",
        "model.add(Dense(10, activation=\"softmax\"))"
      ],
      "execution_count": null,
      "outputs": []
    },
    {
      "cell_type": "code",
      "metadata": {
        "colab": {
          "base_uri": "https://localhost:8080/"
        },
        "id": "diunwJZFmF6U",
        "outputId": "07d946d3-1539-4859-a178-a3bc162a1b2d"
      },
      "source": [
        "model.summary()"
      ],
      "execution_count": null,
      "outputs": [
        {
          "output_type": "stream",
          "text": [
            "Model: \"sequential_10\"\n",
            "_________________________________________________________________\n",
            "Layer (type)                 Output Shape              Param #   \n",
            "=================================================================\n",
            "dense_30 (Dense)             (None, 64)                50240     \n",
            "_________________________________________________________________\n",
            "dense_31 (Dense)             (None, 32)                2080      \n",
            "_________________________________________________________________\n",
            "dense_32 (Dense)             (None, 10)                330       \n",
            "=================================================================\n",
            "Total params: 52,650\n",
            "Trainable params: 52,650\n",
            "Non-trainable params: 0\n",
            "_________________________________________________________________\n"
          ],
          "name": "stdout"
        }
      ]
    },
    {
      "cell_type": "code",
      "metadata": {
        "id": "jV70LfRPmF6U"
      },
      "source": [
        "model.compile(optimizer='sgd', loss='categorical_crossentropy',\n",
        "              metrics=['accuracy'])"
      ],
      "execution_count": null,
      "outputs": []
    },
    {
      "cell_type": "code",
      "metadata": {
        "colab": {
          "base_uri": "https://localhost:8080/"
        },
        "id": "4NFM4cCnmF6U",
        "outputId": "56e1f294-db84-4c52-d974-c065f11ace1c"
      },
      "source": [
        "# Setting `verbose=1` prints out some results after each epoch\n",
        "model.fit(X_train, Y_train, batch_size=128, epochs=20, verbose=1)"
      ],
      "execution_count": null,
      "outputs": [
        {
          "output_type": "stream",
          "text": [
            "Epoch 1/20\n",
            "469/469 [==============================] - 1s 2ms/step - loss: 1.6811 - accuracy: 0.4821\n",
            "Epoch 2/20\n",
            "469/469 [==============================] - 1s 3ms/step - loss: 0.7695 - accuracy: 0.7394\n",
            "Epoch 3/20\n",
            "469/469 [==============================] - 1s 2ms/step - loss: 0.6366 - accuracy: 0.7823\n",
            "Epoch 4/20\n",
            "469/469 [==============================] - 1s 3ms/step - loss: 0.5721 - accuracy: 0.8056\n",
            "Epoch 5/20\n",
            "469/469 [==============================] - 1s 3ms/step - loss: 0.5336 - accuracy: 0.8137\n",
            "Epoch 6/20\n",
            "469/469 [==============================] - 1s 3ms/step - loss: 0.5166 - accuracy: 0.8214\n",
            "Epoch 7/20\n",
            "469/469 [==============================] - 1s 2ms/step - loss: 0.4973 - accuracy: 0.8250\n",
            "Epoch 8/20\n",
            "469/469 [==============================] - 1s 2ms/step - loss: 0.4823 - accuracy: 0.8333\n",
            "Epoch 9/20\n",
            "469/469 [==============================] - 1s 2ms/step - loss: 0.4725 - accuracy: 0.8326\n",
            "Epoch 10/20\n",
            "469/469 [==============================] - 1s 3ms/step - loss: 0.4665 - accuracy: 0.8358\n",
            "Epoch 11/20\n",
            "469/469 [==============================] - 1s 3ms/step - loss: 0.4507 - accuracy: 0.8405\n",
            "Epoch 12/20\n",
            "469/469 [==============================] - 1s 2ms/step - loss: 0.4401 - accuracy: 0.8459\n",
            "Epoch 13/20\n",
            "469/469 [==============================] - 1s 2ms/step - loss: 0.4409 - accuracy: 0.8432\n",
            "Epoch 14/20\n",
            "469/469 [==============================] - 1s 2ms/step - loss: 0.4307 - accuracy: 0.8478\n",
            "Epoch 15/20\n",
            "469/469 [==============================] - 1s 3ms/step - loss: 0.4303 - accuracy: 0.8463\n",
            "Epoch 16/20\n",
            "469/469 [==============================] - 1s 3ms/step - loss: 0.4245 - accuracy: 0.8502\n",
            "Epoch 17/20\n",
            "469/469 [==============================] - 1s 3ms/step - loss: 0.4163 - accuracy: 0.8528\n",
            "Epoch 18/20\n",
            "469/469 [==============================] - 1s 3ms/step - loss: 0.4128 - accuracy: 0.8554\n",
            "Epoch 19/20\n",
            "469/469 [==============================] - 1s 3ms/step - loss: 0.4087 - accuracy: 0.8565\n",
            "Epoch 20/20\n",
            "469/469 [==============================] - 1s 3ms/step - loss: 0.3997 - accuracy: 0.8576\n"
          ],
          "name": "stdout"
        },
        {
          "output_type": "execute_result",
          "data": {
            "text/plain": [
              "<tensorflow.python.keras.callbacks.History at 0x7f0fdeca9990>"
            ]
          },
          "metadata": {
            "tags": []
          },
          "execution_count": 61
        }
      ]
    },
    {
      "cell_type": "code",
      "metadata": {
        "colab": {
          "base_uri": "https://localhost:8080/"
        },
        "id": "y6rcjl5gmF6U",
        "outputId": "51afff9d-6866-4751-a5fe-7c4ec0d563d2"
      },
      "source": [
        "score = model.evaluate(X_test, Y_test, verbose=0)\n",
        "train_score = model.evaluate(X_train, Y_train, verbose=0)\n",
        "train_acc.append(train_score[1])\n",
        "test_acc.append(score[1])\n",
        "print('Test accuracy:', score[1])"
      ],
      "execution_count": null,
      "outputs": [
        {
          "output_type": "stream",
          "text": [
            "Test accuracy: 0.8628000020980835\n"
          ],
          "name": "stdout"
        }
      ]
    },
    {
      "cell_type": "markdown",
      "metadata": {
        "id": "YZBjyl7TMSKC"
      },
      "source": [
        "This model was super fast comparatively."
      ]
    },
    {
      "cell_type": "code",
      "metadata": {
        "id": "B7hatg10DdeF"
      },
      "source": [
        "model = Sequential()\n",
        "# The first dense layer\n",
        "model.add(Dense(64, input_shape=(784,), activation=\"relu\"))\n",
        "# The second dense layer\n",
        "model.add(Dense(32, input_shape=(784,), activation=\"relu\"))\n",
        "# The last layer is the output layer\n",
        "model.add(Dense(10, activation=\"softmax\"))"
      ],
      "execution_count": null,
      "outputs": []
    },
    {
      "cell_type": "code",
      "metadata": {
        "colab": {
          "base_uri": "https://localhost:8080/"
        },
        "id": "CmKlwEE1DdeF",
        "outputId": "c9dc44d2-e44f-4510-f52a-1f015f78002a"
      },
      "source": [
        "model.summary()"
      ],
      "execution_count": null,
      "outputs": [
        {
          "output_type": "stream",
          "text": [
            "Model: \"sequential_11\"\n",
            "_________________________________________________________________\n",
            "Layer (type)                 Output Shape              Param #   \n",
            "=================================================================\n",
            "dense_33 (Dense)             (None, 64)                50240     \n",
            "_________________________________________________________________\n",
            "dense_34 (Dense)             (None, 32)                2080      \n",
            "_________________________________________________________________\n",
            "dense_35 (Dense)             (None, 10)                330       \n",
            "=================================================================\n",
            "Total params: 52,650\n",
            "Trainable params: 52,650\n",
            "Non-trainable params: 0\n",
            "_________________________________________________________________\n"
          ],
          "name": "stdout"
        }
      ]
    },
    {
      "cell_type": "code",
      "metadata": {
        "id": "wrAD2zftDdeH"
      },
      "source": [
        "model.compile(optimizer='sgd', loss='categorical_crossentropy',\n",
        "              metrics=['accuracy'])"
      ],
      "execution_count": null,
      "outputs": []
    },
    {
      "cell_type": "code",
      "metadata": {
        "colab": {
          "base_uri": "https://localhost:8080/"
        },
        "id": "3OggjeTymF6V",
        "outputId": "e3d16bdc-f684-4ec1-c641-5317daa6dab3"
      },
      "source": [
        "# Setting `verbose=1` prints out some results after each epoch\n",
        "model.fit(X_train, Y_train, batch_size=60000, epochs=20, verbose=1)"
      ],
      "execution_count": null,
      "outputs": [
        {
          "output_type": "stream",
          "text": [
            "Epoch 1/20\n",
            "1/1 [==============================] - 1s 816ms/step - loss: 2.3995 - accuracy: 0.0408\n",
            "Epoch 2/20\n",
            "1/1 [==============================] - 0s 374ms/step - loss: 2.3825 - accuracy: 0.0427\n",
            "Epoch 3/20\n",
            "1/1 [==============================] - 0s 377ms/step - loss: 2.3660 - accuracy: 0.0452\n",
            "Epoch 4/20\n",
            "1/1 [==============================] - 0s 388ms/step - loss: 2.3500 - accuracy: 0.0470\n",
            "Epoch 5/20\n",
            "1/1 [==============================] - 0s 382ms/step - loss: 2.3343 - accuracy: 0.0503\n",
            "Epoch 6/20\n",
            "1/1 [==============================] - 0s 391ms/step - loss: 2.3189 - accuracy: 0.0551\n",
            "Epoch 7/20\n",
            "1/1 [==============================] - 0s 403ms/step - loss: 2.3037 - accuracy: 0.0608\n",
            "Epoch 8/20\n",
            "1/1 [==============================] - 0s 384ms/step - loss: 2.2889 - accuracy: 0.0694\n",
            "Epoch 9/20\n",
            "1/1 [==============================] - 0s 384ms/step - loss: 2.2744 - accuracy: 0.0834\n",
            "Epoch 10/20\n",
            "1/1 [==============================] - 0s 376ms/step - loss: 2.2604 - accuracy: 0.1009\n",
            "Epoch 11/20\n",
            "1/1 [==============================] - 0s 382ms/step - loss: 2.2470 - accuracy: 0.1202\n",
            "Epoch 12/20\n",
            "1/1 [==============================] - 0s 378ms/step - loss: 2.2343 - accuracy: 0.1407\n",
            "Epoch 13/20\n",
            "1/1 [==============================] - 0s 374ms/step - loss: 2.2224 - accuracy: 0.1614\n",
            "Epoch 14/20\n",
            "1/1 [==============================] - 0s 383ms/step - loss: 2.2113 - accuracy: 0.1806\n",
            "Epoch 15/20\n",
            "1/1 [==============================] - 0s 368ms/step - loss: 2.2007 - accuracy: 0.1978\n",
            "Epoch 16/20\n",
            "1/1 [==============================] - 0s 367ms/step - loss: 2.1908 - accuracy: 0.2111\n",
            "Epoch 17/20\n",
            "1/1 [==============================] - 0s 406ms/step - loss: 2.1813 - accuracy: 0.2230\n",
            "Epoch 18/20\n",
            "1/1 [==============================] - 0s 361ms/step - loss: 2.1722 - accuracy: 0.2342\n",
            "Epoch 19/20\n",
            "1/1 [==============================] - 0s 331ms/step - loss: 2.1633 - accuracy: 0.2440\n",
            "Epoch 20/20\n",
            "1/1 [==============================] - 0s 345ms/step - loss: 2.1547 - accuracy: 0.2524\n"
          ],
          "name": "stdout"
        },
        {
          "output_type": "execute_result",
          "data": {
            "text/plain": [
              "<tensorflow.python.keras.callbacks.History at 0x7f0fe9ec9190>"
            ]
          },
          "metadata": {
            "tags": []
          },
          "execution_count": 66
        }
      ]
    },
    {
      "cell_type": "code",
      "metadata": {
        "colab": {
          "base_uri": "https://localhost:8080/"
        },
        "id": "IYomDXcumF6V",
        "outputId": "fc8336d7-e2c9-4f9f-e5d1-d816b37696fd"
      },
      "source": [
        "score = model.evaluate(X_test, Y_test, verbose=0)\n",
        "train_score = model.evaluate(X_train, Y_train, verbose=0)\n",
        "train_acc.append(train_score[1])\n",
        "test_acc.append(score[1])\n",
        "print('Test accuracy:', score[1])"
      ],
      "execution_count": null,
      "outputs": [
        {
          "output_type": "stream",
          "text": [
            "Test accuracy: 0.26759999990463257\n"
          ],
          "name": "stdout"
        }
      ]
    },
    {
      "cell_type": "markdown",
      "metadata": {
        "id": "IoflUnRmoneN"
      },
      "source": [
        "Clearly sigmoid isn't performing well, and neither is using the full batch size. Let's reduce our options to relu and tanh, and have lower batch sizes.\n",
        "\n",
        "---\n",
        "\n"
      ]
    },
    {
      "cell_type": "markdown",
      "metadata": {
        "id": "l6T-S94Plwt-"
      },
      "source": [
        "#6-layer relu"
      ]
    },
    {
      "cell_type": "code",
      "metadata": {
        "id": "CI3NXTLKorfp"
      },
      "source": [
        "model = Sequential()\n",
        "# The first dense layer\n",
        "model.add(Dense(512, input_shape=(784,), activation=\"relu\"))\n",
        "# The second dense layer\n",
        "model.add(Dense(256, input_shape=(784,), activation=\"relu\"))\n",
        "# The third dense layer\n",
        "model.add(Dense(128, input_shape=(784,), activation=\"relu\"))\n",
        "# The fourth dense layer\n",
        "model.add(Dense(64, input_shape=(784,), activation=\"relu\"))\n",
        "# The fifth dense layer\n",
        "model.add(Dense(32, input_shape=(784,), activation=\"relu\"))\n",
        "# The last layer is the output layer\n",
        "model.add(Dense(10, activation=\"softmax\"))"
      ],
      "execution_count": null,
      "outputs": []
    },
    {
      "cell_type": "code",
      "metadata": {
        "colab": {
          "base_uri": "https://localhost:8080/"
        },
        "id": "RpfPalFIorfq",
        "outputId": "0e86d06b-f45b-4022-b879-81f9320439d8"
      },
      "source": [
        "model.summary()"
      ],
      "execution_count": null,
      "outputs": [
        {
          "output_type": "stream",
          "text": [
            "Model: \"sequential_12\"\n",
            "_________________________________________________________________\n",
            "Layer (type)                 Output Shape              Param #   \n",
            "=================================================================\n",
            "dense_36 (Dense)             (None, 512)               401920    \n",
            "_________________________________________________________________\n",
            "dense_37 (Dense)             (None, 256)               131328    \n",
            "_________________________________________________________________\n",
            "dense_38 (Dense)             (None, 128)               32896     \n",
            "_________________________________________________________________\n",
            "dense_39 (Dense)             (None, 64)                8256      \n",
            "_________________________________________________________________\n",
            "dense_40 (Dense)             (None, 32)                2080      \n",
            "_________________________________________________________________\n",
            "dense_41 (Dense)             (None, 10)                330       \n",
            "=================================================================\n",
            "Total params: 576,810\n",
            "Trainable params: 576,810\n",
            "Non-trainable params: 0\n",
            "_________________________________________________________________\n"
          ],
          "name": "stdout"
        }
      ]
    },
    {
      "cell_type": "code",
      "metadata": {
        "id": "5I6A4O22orfr"
      },
      "source": [
        "model.compile(optimizer='sgd', loss='categorical_crossentropy',\n",
        "              metrics=['accuracy'])"
      ],
      "execution_count": null,
      "outputs": []
    },
    {
      "cell_type": "code",
      "metadata": {
        "colab": {
          "base_uri": "https://localhost:8080/"
        },
        "id": "9hXhuT8Qorfr",
        "outputId": "0773e8e6-3432-49b7-e8bb-49129635728b"
      },
      "source": [
        "# Setting `verbose=1` prints out some results after each epoch\n",
        "model.fit(X_train, Y_train, batch_size=128, epochs=20, verbose=1)"
      ],
      "execution_count": null,
      "outputs": [
        {
          "output_type": "stream",
          "text": [
            "Epoch 1/20\n",
            "469/469 [==============================] - 9s 19ms/step - loss: 1.6350 - accuracy: 0.4796\n",
            "Epoch 2/20\n",
            "469/469 [==============================] - 9s 19ms/step - loss: 0.6531 - accuracy: 0.7783\n",
            "Epoch 3/20\n",
            "469/469 [==============================] - 9s 19ms/step - loss: 0.5480 - accuracy: 0.8094\n",
            "Epoch 4/20\n",
            "469/469 [==============================] - 9s 18ms/step - loss: 0.4943 - accuracy: 0.8270\n",
            "Epoch 5/20\n",
            "469/469 [==============================] - 8s 17ms/step - loss: 0.4573 - accuracy: 0.8408\n",
            "Epoch 6/20\n",
            "469/469 [==============================] - 8s 18ms/step - loss: 0.4381 - accuracy: 0.8473\n",
            "Epoch 7/20\n",
            "469/469 [==============================] - 8s 18ms/step - loss: 0.4210 - accuracy: 0.8518\n",
            "Epoch 8/20\n",
            "469/469 [==============================] - 8s 18ms/step - loss: 0.4078 - accuracy: 0.8567\n",
            "Epoch 9/20\n",
            "469/469 [==============================] - 9s 19ms/step - loss: 0.3939 - accuracy: 0.8604\n",
            "Epoch 10/20\n",
            "469/469 [==============================] - 8s 18ms/step - loss: 0.3792 - accuracy: 0.8671\n",
            "Epoch 11/20\n",
            "469/469 [==============================] - 8s 18ms/step - loss: 0.3741 - accuracy: 0.8669\n",
            "Epoch 12/20\n",
            "469/469 [==============================] - 8s 17ms/step - loss: 0.3596 - accuracy: 0.8740\n",
            "Epoch 13/20\n",
            "469/469 [==============================] - 9s 18ms/step - loss: 0.3512 - accuracy: 0.8742\n",
            "Epoch 14/20\n",
            "469/469 [==============================] - 8s 18ms/step - loss: 0.3474 - accuracy: 0.8761\n",
            "Epoch 15/20\n",
            "469/469 [==============================] - 9s 18ms/step - loss: 0.3379 - accuracy: 0.8788\n",
            "Epoch 16/20\n",
            "469/469 [==============================] - 8s 16ms/step - loss: 0.3319 - accuracy: 0.8812\n",
            "Epoch 17/20\n",
            "469/469 [==============================] - 7s 16ms/step - loss: 0.3268 - accuracy: 0.8836\n",
            "Epoch 18/20\n",
            "469/469 [==============================] - 9s 18ms/step - loss: 0.3159 - accuracy: 0.8864\n",
            "Epoch 19/20\n",
            "469/469 [==============================] - 9s 18ms/step - loss: 0.3093 - accuracy: 0.8858\n",
            "Epoch 20/20\n",
            "469/469 [==============================] - 8s 18ms/step - loss: 0.3034 - accuracy: 0.8900\n"
          ],
          "name": "stdout"
        },
        {
          "output_type": "execute_result",
          "data": {
            "text/plain": [
              "<tensorflow.python.keras.callbacks.History at 0x7f0fdbb4ba90>"
            ]
          },
          "metadata": {
            "tags": []
          },
          "execution_count": 71
        }
      ]
    },
    {
      "cell_type": "code",
      "metadata": {
        "colab": {
          "base_uri": "https://localhost:8080/"
        },
        "id": "zJhXurRlorfr",
        "outputId": "4077ec01-e07d-47ee-8086-1954d8991905"
      },
      "source": [
        "score = model.evaluate(X_test, Y_test, verbose=0)\n",
        "train_score = model.evaluate(X_train, Y_train, verbose=0)\n",
        "train_acc.append(train_score[1])\n",
        "test_acc.append(score[1])\n",
        "print('Test accuracy:', score[1])"
      ],
      "execution_count": null,
      "outputs": [
        {
          "output_type": "stream",
          "text": [
            "Test accuracy: 0.8847000002861023\n"
          ],
          "name": "stdout"
        }
      ]
    },
    {
      "cell_type": "markdown",
      "metadata": {
        "id": "q02K59Q8Mfqp"
      },
      "source": [
        "Most accurate test score so far, but beginning to see concerns of overfitting."
      ]
    },
    {
      "cell_type": "markdown",
      "metadata": {
        "id": "euZbgWVxpuVw"
      },
      "source": [
        "Now batch size of 16?"
      ]
    },
    {
      "cell_type": "code",
      "metadata": {
        "id": "f7vqVB07pt1P"
      },
      "source": [
        "model = Sequential()\n",
        "# The first dense layer\n",
        "model.add(Dense(512, input_shape=(784,), activation=\"relu\"))\n",
        "# The second dense layer\n",
        "model.add(Dense(256, input_shape=(784,), activation=\"relu\"))\n",
        "# The third dense layer\n",
        "model.add(Dense(128, input_shape=(784,), activation=\"relu\"))\n",
        "# The fourth dense layer\n",
        "model.add(Dense(64, input_shape=(784,), activation=\"relu\"))\n",
        "# The fifth dense layer\n",
        "model.add(Dense(32, input_shape=(784,), activation=\"relu\"))\n",
        "# The last layer is the output layer\n",
        "model.add(Dense(10, activation=\"softmax\"))"
      ],
      "execution_count": null,
      "outputs": []
    },
    {
      "cell_type": "code",
      "metadata": {
        "colab": {
          "base_uri": "https://localhost:8080/"
        },
        "id": "Hiresiczpt1Q",
        "outputId": "0e6889bb-f70d-45c3-f4a1-1e1b506657c5"
      },
      "source": [
        "model.summary()"
      ],
      "execution_count": null,
      "outputs": [
        {
          "output_type": "stream",
          "text": [
            "Model: \"sequential_13\"\n",
            "_________________________________________________________________\n",
            "Layer (type)                 Output Shape              Param #   \n",
            "=================================================================\n",
            "dense_42 (Dense)             (None, 512)               401920    \n",
            "_________________________________________________________________\n",
            "dense_43 (Dense)             (None, 256)               131328    \n",
            "_________________________________________________________________\n",
            "dense_44 (Dense)             (None, 128)               32896     \n",
            "_________________________________________________________________\n",
            "dense_45 (Dense)             (None, 64)                8256      \n",
            "_________________________________________________________________\n",
            "dense_46 (Dense)             (None, 32)                2080      \n",
            "_________________________________________________________________\n",
            "dense_47 (Dense)             (None, 10)                330       \n",
            "=================================================================\n",
            "Total params: 576,810\n",
            "Trainable params: 576,810\n",
            "Non-trainable params: 0\n",
            "_________________________________________________________________\n"
          ],
          "name": "stdout"
        }
      ]
    },
    {
      "cell_type": "code",
      "metadata": {
        "id": "A2164xYapt1Q"
      },
      "source": [
        "model.compile(optimizer='sgd', loss='categorical_crossentropy',\n",
        "              metrics=['accuracy'])"
      ],
      "execution_count": null,
      "outputs": []
    },
    {
      "cell_type": "code",
      "metadata": {
        "colab": {
          "base_uri": "https://localhost:8080/"
        },
        "id": "HkhcEAxKpt1Q",
        "outputId": "4ddf45b1-20f1-4e32-d7b3-d50134fb3c78"
      },
      "source": [
        "# Setting `verbose=1` prints out some results after each epoch\n",
        "model.fit(X_train, Y_train, batch_size=16, epochs=20, verbose=1)"
      ],
      "execution_count": null,
      "outputs": [
        {
          "output_type": "stream",
          "text": [
            "Epoch 1/20\n",
            "3750/3750 [==============================] - 33s 9ms/step - loss: 0.8913 - accuracy: 0.6939\n",
            "Epoch 2/20\n",
            "3750/3750 [==============================] - 33s 9ms/step - loss: 0.4200 - accuracy: 0.8484\n",
            "Epoch 3/20\n",
            "3750/3750 [==============================] - 28s 7ms/step - loss: 0.3684 - accuracy: 0.8657\n",
            "Epoch 4/20\n",
            "3750/3750 [==============================] - 35s 9ms/step - loss: 0.3400 - accuracy: 0.8741\n",
            "Epoch 5/20\n",
            "3750/3750 [==============================] - 35s 9ms/step - loss: 0.3149 - accuracy: 0.8822\n",
            "Epoch 6/20\n",
            "3750/3750 [==============================] - 33s 9ms/step - loss: 0.2996 - accuracy: 0.8896\n",
            "Epoch 7/20\n",
            "3750/3750 [==============================] - 33s 9ms/step - loss: 0.2845 - accuracy: 0.8947\n",
            "Epoch 8/20\n",
            "3750/3750 [==============================] - 33s 9ms/step - loss: 0.2718 - accuracy: 0.8986\n",
            "Epoch 9/20\n",
            "3750/3750 [==============================] - 32s 8ms/step - loss: 0.2568 - accuracy: 0.9034\n",
            "Epoch 10/20\n",
            "3750/3750 [==============================] - 36s 10ms/step - loss: 0.2436 - accuracy: 0.9083\n",
            "Epoch 11/20\n",
            "3750/3750 [==============================] - 38s 10ms/step - loss: 0.2358 - accuracy: 0.9134\n",
            "Epoch 12/20\n",
            "3750/3750 [==============================] - 33s 9ms/step - loss: 0.2260 - accuracy: 0.9167\n",
            "Epoch 13/20\n",
            "3750/3750 [==============================] - 31s 8ms/step - loss: 0.2156 - accuracy: 0.9198\n",
            "Epoch 14/20\n",
            "3750/3750 [==============================] - 34s 9ms/step - loss: 0.2077 - accuracy: 0.9219\n",
            "Epoch 15/20\n",
            "3750/3750 [==============================] - 30s 8ms/step - loss: 0.2030 - accuracy: 0.9251\n",
            "Epoch 16/20\n",
            "3750/3750 [==============================] - 33s 9ms/step - loss: 0.1925 - accuracy: 0.9283\n",
            "Epoch 17/20\n",
            "3750/3750 [==============================] - 30s 8ms/step - loss: 0.1893 - accuracy: 0.9290\n",
            "Epoch 18/20\n",
            "3750/3750 [==============================] - 33s 9ms/step - loss: 0.1829 - accuracy: 0.9310\n",
            "Epoch 19/20\n",
            "3750/3750 [==============================] - 32s 8ms/step - loss: 0.1734 - accuracy: 0.9352\n",
            "Epoch 20/20\n",
            "3750/3750 [==============================] - 32s 8ms/step - loss: 0.1700 - accuracy: 0.9373\n"
          ],
          "name": "stdout"
        },
        {
          "output_type": "execute_result",
          "data": {
            "text/plain": [
              "<tensorflow.python.keras.callbacks.History at 0x7f0fda1581d0>"
            ]
          },
          "metadata": {
            "tags": []
          },
          "execution_count": 76
        }
      ]
    },
    {
      "cell_type": "code",
      "metadata": {
        "colab": {
          "base_uri": "https://localhost:8080/"
        },
        "id": "vtSCYoA1pt1Q",
        "outputId": "c6296fcb-ec60-45ed-adae-cd62903bd00c"
      },
      "source": [
        "score = model.evaluate(X_test, Y_test, verbose=0)\n",
        "train_score = model.evaluate(X_train, Y_train, verbose=0)\n",
        "train_acc.append(train_score[1])\n",
        "test_acc.append(score[1])\n",
        "print('Test accuracy:', score[1])"
      ],
      "execution_count": null,
      "outputs": [
        {
          "output_type": "stream",
          "text": [
            "Test accuracy: 0.8899000287055969\n"
          ],
          "name": "stdout"
        }
      ]
    },
    {
      "cell_type": "markdown",
      "metadata": {
        "id": "q_AVhHZCNYTC"
      },
      "source": [
        "By far the most accurate model so far, but worried about overfitting. The difference between training and testing scores arent huge, but something to be aware of."
      ]
    },
    {
      "cell_type": "markdown",
      "metadata": {
        "id": "RhhQ9k1iorqe"
      },
      "source": [
        "## 6-layer tanh"
      ]
    },
    {
      "cell_type": "code",
      "metadata": {
        "id": "Xh64gJJGqHNx"
      },
      "source": [
        "model = Sequential()\n",
        "# The first dense layer\n",
        "model.add(Dense(512, input_shape=(784,), activation=\"tanh\"))\n",
        "# The second dense layer\n",
        "model.add(Dense(256, input_shape=(784,), activation=\"tanh\"))\n",
        "# The third dense layer\n",
        "model.add(Dense(128, input_shape=(784,), activation=\"tanh\"))\n",
        "# The fourth dense layer\n",
        "model.add(Dense(64, input_shape=(784,), activation=\"tanh\"))\n",
        "# The fifth dense layer\n",
        "model.add(Dense(32, input_shape=(784,), activation=\"tanh\"))\n",
        "# The last layer is the output layer\n",
        "model.add(Dense(10, activation=\"softmax\"))"
      ],
      "execution_count": null,
      "outputs": []
    },
    {
      "cell_type": "code",
      "metadata": {
        "colab": {
          "base_uri": "https://localhost:8080/"
        },
        "id": "WK-7sDsfqHN0",
        "outputId": "de4f030b-b234-407f-bc29-097596ad2007"
      },
      "source": [
        "model.summary()"
      ],
      "execution_count": null,
      "outputs": [
        {
          "output_type": "stream",
          "text": [
            "Model: \"sequential_14\"\n",
            "_________________________________________________________________\n",
            "Layer (type)                 Output Shape              Param #   \n",
            "=================================================================\n",
            "dense_48 (Dense)             (None, 512)               401920    \n",
            "_________________________________________________________________\n",
            "dense_49 (Dense)             (None, 256)               131328    \n",
            "_________________________________________________________________\n",
            "dense_50 (Dense)             (None, 128)               32896     \n",
            "_________________________________________________________________\n",
            "dense_51 (Dense)             (None, 64)                8256      \n",
            "_________________________________________________________________\n",
            "dense_52 (Dense)             (None, 32)                2080      \n",
            "_________________________________________________________________\n",
            "dense_53 (Dense)             (None, 10)                330       \n",
            "=================================================================\n",
            "Total params: 576,810\n",
            "Trainable params: 576,810\n",
            "Non-trainable params: 0\n",
            "_________________________________________________________________\n"
          ],
          "name": "stdout"
        }
      ]
    },
    {
      "cell_type": "code",
      "metadata": {
        "id": "jXEWbnVZqHN0"
      },
      "source": [
        "model.compile(optimizer='sgd', loss='categorical_crossentropy',\n",
        "              metrics=['accuracy'])"
      ],
      "execution_count": null,
      "outputs": []
    },
    {
      "cell_type": "code",
      "metadata": {
        "colab": {
          "base_uri": "https://localhost:8080/"
        },
        "id": "aw6adsfbqHN0",
        "outputId": "455bc839-b571-4873-a0c5-61042d82d073"
      },
      "source": [
        "# Setting `verbose=1` prints out some results after each epoch\n",
        "model.fit(X_train, Y_train, batch_size=128, epochs=20, verbose=1)"
      ],
      "execution_count": null,
      "outputs": [
        {
          "output_type": "stream",
          "text": [
            "Epoch 1/20\n",
            "469/469 [==============================] - 9s 18ms/step - loss: 1.3341 - accuracy: 0.6319\n",
            "Epoch 2/20\n",
            "469/469 [==============================] - 8s 18ms/step - loss: 0.6143 - accuracy: 0.8061\n",
            "Epoch 3/20\n",
            "469/469 [==============================] - 8s 17ms/step - loss: 0.5227 - accuracy: 0.8258\n",
            "Epoch 4/20\n",
            "469/469 [==============================] - 7s 16ms/step - loss: 0.4746 - accuracy: 0.8392\n",
            "Epoch 5/20\n",
            "469/469 [==============================] - 8s 17ms/step - loss: 0.4458 - accuracy: 0.8460\n",
            "Epoch 6/20\n",
            "469/469 [==============================] - 8s 17ms/step - loss: 0.4329 - accuracy: 0.8510\n",
            "Epoch 7/20\n",
            "469/469 [==============================] - 7s 16ms/step - loss: 0.4127 - accuracy: 0.8564\n",
            "Epoch 8/20\n",
            "469/469 [==============================] - 7s 16ms/step - loss: 0.4075 - accuracy: 0.8576\n",
            "Epoch 9/20\n",
            "469/469 [==============================] - 7s 16ms/step - loss: 0.3851 - accuracy: 0.8645\n",
            "Epoch 10/20\n",
            "469/469 [==============================] - 7s 15ms/step - loss: 0.3823 - accuracy: 0.8650\n",
            "Epoch 11/20\n",
            "469/469 [==============================] - 7s 14ms/step - loss: 0.3732 - accuracy: 0.8688\n",
            "Epoch 12/20\n",
            "469/469 [==============================] - 7s 15ms/step - loss: 0.3659 - accuracy: 0.8707\n",
            "Epoch 13/20\n",
            "469/469 [==============================] - 7s 15ms/step - loss: 0.3603 - accuracy: 0.8710\n",
            "Epoch 14/20\n",
            "469/469 [==============================] - 7s 16ms/step - loss: 0.3547 - accuracy: 0.8740\n",
            "Epoch 15/20\n",
            "469/469 [==============================] - 7s 14ms/step - loss: 0.3466 - accuracy: 0.8778\n",
            "Epoch 16/20\n",
            "469/469 [==============================] - 7s 14ms/step - loss: 0.3451 - accuracy: 0.8776\n",
            "Epoch 17/20\n",
            "469/469 [==============================] - 6s 13ms/step - loss: 0.3422 - accuracy: 0.8766\n",
            "Epoch 18/20\n",
            "469/469 [==============================] - 6s 13ms/step - loss: 0.3286 - accuracy: 0.8835\n",
            "Epoch 19/20\n",
            "469/469 [==============================] - 6s 13ms/step - loss: 0.3313 - accuracy: 0.8843\n",
            "Epoch 20/20\n",
            "469/469 [==============================] - 7s 15ms/step - loss: 0.3286 - accuracy: 0.8847\n"
          ],
          "name": "stdout"
        },
        {
          "output_type": "execute_result",
          "data": {
            "text/plain": [
              "<tensorflow.python.keras.callbacks.History at 0x7f0fd8fe6e90>"
            ]
          },
          "metadata": {
            "tags": []
          },
          "execution_count": 81
        }
      ]
    },
    {
      "cell_type": "code",
      "metadata": {
        "colab": {
          "base_uri": "https://localhost:8080/"
        },
        "id": "PuVAWuHpqHN0",
        "outputId": "1e0d2d0e-644e-4fec-e3a4-0ea12a6d9fe4"
      },
      "source": [
        "score = model.evaluate(X_test, Y_test, verbose=0)\n",
        "train_score = model.evaluate(X_train, Y_train, verbose=0)\n",
        "train_acc.append(train_score[1])\n",
        "test_acc.append(score[1])\n",
        "print('Test accuracy:', score[1])"
      ],
      "execution_count": null,
      "outputs": [
        {
          "output_type": "stream",
          "text": [
            "Test accuracy: 0.8755000233650208\n"
          ],
          "name": "stdout"
        }
      ]
    },
    {
      "cell_type": "markdown",
      "metadata": {
        "id": "rJ7d3_jbPav2"
      },
      "source": [
        "This shows no sign of overfitting."
      ]
    },
    {
      "cell_type": "markdown",
      "metadata": {
        "id": "TFwYDhvOqHN2"
      },
      "source": [
        "Now batch size of 16?"
      ]
    },
    {
      "cell_type": "code",
      "metadata": {
        "id": "HaI3JkVPqHN2"
      },
      "source": [
        "model = Sequential()\n",
        "# The first dense layer\n",
        "model.add(Dense(512, input_shape=(784,), activation=\"tanh\"))\n",
        "# The second dense layer\n",
        "model.add(Dense(256, input_shape=(784,), activation=\"tanh\"))\n",
        "# The third dense layer\n",
        "model.add(Dense(128, input_shape=(784,), activation=\"tanh\"))\n",
        "# The fourth dense layer\n",
        "model.add(Dense(64, input_shape=(784,), activation=\"tanh\"))\n",
        "# The fifth dense layer\n",
        "model.add(Dense(32, input_shape=(784,), activation=\"tanh\"))\n",
        "# The last layer is the output layer\n",
        "model.add(Dense(10, activation=\"softmax\"))"
      ],
      "execution_count": null,
      "outputs": []
    },
    {
      "cell_type": "code",
      "metadata": {
        "colab": {
          "base_uri": "https://localhost:8080/"
        },
        "id": "TTBqQNQFqHN2",
        "outputId": "0618fa82-488f-4675-c66b-eed5e3263368"
      },
      "source": [
        "model.summary()"
      ],
      "execution_count": null,
      "outputs": [
        {
          "output_type": "stream",
          "text": [
            "Model: \"sequential_15\"\n",
            "_________________________________________________________________\n",
            "Layer (type)                 Output Shape              Param #   \n",
            "=================================================================\n",
            "dense_54 (Dense)             (None, 512)               401920    \n",
            "_________________________________________________________________\n",
            "dense_55 (Dense)             (None, 256)               131328    \n",
            "_________________________________________________________________\n",
            "dense_56 (Dense)             (None, 128)               32896     \n",
            "_________________________________________________________________\n",
            "dense_57 (Dense)             (None, 64)                8256      \n",
            "_________________________________________________________________\n",
            "dense_58 (Dense)             (None, 32)                2080      \n",
            "_________________________________________________________________\n",
            "dense_59 (Dense)             (None, 10)                330       \n",
            "=================================================================\n",
            "Total params: 576,810\n",
            "Trainable params: 576,810\n",
            "Non-trainable params: 0\n",
            "_________________________________________________________________\n"
          ],
          "name": "stdout"
        }
      ]
    },
    {
      "cell_type": "code",
      "metadata": {
        "id": "YF3Tjz27qHN2"
      },
      "source": [
        "model.compile(optimizer='sgd', loss='categorical_crossentropy',\n",
        "              metrics=['accuracy'])"
      ],
      "execution_count": null,
      "outputs": []
    },
    {
      "cell_type": "code",
      "metadata": {
        "colab": {
          "base_uri": "https://localhost:8080/"
        },
        "id": "nkWgF2KpqHN3",
        "outputId": "8d2f5b47-15ca-465f-bb4f-c833105520d7"
      },
      "source": [
        "# Setting `verbose=1` prints out some results after each epoch\n",
        "model.fit(X_train, Y_train, batch_size=16, epochs=20, verbose=1)"
      ],
      "execution_count": null,
      "outputs": [
        {
          "output_type": "stream",
          "text": [
            "Epoch 1/20\n",
            "3750/3750 [==============================] - 33s 9ms/step - loss: 0.7720 - accuracy: 0.7517\n",
            "Epoch 2/20\n",
            "3750/3750 [==============================] - 31s 8ms/step - loss: 0.4189 - accuracy: 0.8493\n",
            "Epoch 3/20\n",
            "3750/3750 [==============================] - 33s 9ms/step - loss: 0.3775 - accuracy: 0.8639\n",
            "Epoch 4/20\n",
            "3750/3750 [==============================] - 33s 9ms/step - loss: 0.3566 - accuracy: 0.8719\n",
            "Epoch 5/20\n",
            "3750/3750 [==============================] - 28s 7ms/step - loss: 0.3377 - accuracy: 0.8772\n",
            "Epoch 6/20\n",
            "3750/3750 [==============================] - 29s 8ms/step - loss: 0.3183 - accuracy: 0.8842\n",
            "Epoch 7/20\n",
            "3750/3750 [==============================] - 30s 8ms/step - loss: 0.3035 - accuracy: 0.8878\n",
            "Epoch 8/20\n",
            "3750/3750 [==============================] - 27s 7ms/step - loss: 0.2937 - accuracy: 0.8917\n",
            "Epoch 9/20\n",
            "3750/3750 [==============================] - 36s 10ms/step - loss: 0.2856 - accuracy: 0.8946\n",
            "Epoch 10/20\n",
            "3750/3750 [==============================] - 38s 10ms/step - loss: 0.2751 - accuracy: 0.8996\n",
            "Epoch 11/20\n",
            "3750/3750 [==============================] - 35s 9ms/step - loss: 0.2662 - accuracy: 0.9025\n",
            "Epoch 12/20\n",
            "3750/3750 [==============================] - 33s 9ms/step - loss: 0.2570 - accuracy: 0.9033\n",
            "Epoch 13/20\n",
            "3750/3750 [==============================] - 32s 9ms/step - loss: 0.2480 - accuracy: 0.9090\n",
            "Epoch 14/20\n",
            "3750/3750 [==============================] - 34s 9ms/step - loss: 0.2380 - accuracy: 0.9127\n",
            "Epoch 15/20\n",
            "3750/3750 [==============================] - 34s 9ms/step - loss: 0.2318 - accuracy: 0.9163\n",
            "Epoch 16/20\n",
            "3750/3750 [==============================] - 37s 10ms/step - loss: 0.2227 - accuracy: 0.9183\n",
            "Epoch 17/20\n",
            "3750/3750 [==============================] - 33s 9ms/step - loss: 0.2216 - accuracy: 0.9201\n",
            "Epoch 18/20\n",
            "3750/3750 [==============================] - 33s 9ms/step - loss: 0.2126 - accuracy: 0.9219\n",
            "Epoch 19/20\n",
            "3750/3750 [==============================] - 35s 9ms/step - loss: 0.2106 - accuracy: 0.9231\n",
            "Epoch 20/20\n",
            "3750/3750 [==============================] - 36s 10ms/step - loss: 0.2070 - accuracy: 0.9242\n"
          ],
          "name": "stdout"
        },
        {
          "output_type": "execute_result",
          "data": {
            "text/plain": [
              "<tensorflow.python.keras.callbacks.History at 0x7f0fd6e05d90>"
            ]
          },
          "metadata": {
            "tags": []
          },
          "execution_count": 86
        }
      ]
    },
    {
      "cell_type": "code",
      "metadata": {
        "colab": {
          "base_uri": "https://localhost:8080/"
        },
        "id": "tVFPiSDGqHN3",
        "outputId": "906342d4-7be0-4395-d723-9e9947294f2e"
      },
      "source": [
        "score = model.evaluate(X_test, Y_test, verbose=0)\n",
        "train_score = model.evaluate(X_train, Y_train, verbose=0)\n",
        "train_acc.append(train_score[1])\n",
        "test_acc.append(score[1])\n",
        "print('Test accuracy:', score[1])"
      ],
      "execution_count": null,
      "outputs": [
        {
          "output_type": "stream",
          "text": [
            "Test accuracy: 0.8960000276565552\n"
          ],
          "name": "stdout"
        }
      ]
    },
    {
      "cell_type": "markdown",
      "metadata": {
        "id": "1IasvnVHP2_L"
      },
      "source": [
        "Batch sizes of 16 seem to overfit a bit and take a really long time - it might be best to stick with the batch size of 128 which are still quite accurate and quick."
      ]
    },
    {
      "cell_type": "markdown",
      "metadata": {
        "id": "obNQDKv4hWOB"
      },
      "source": [
        "##Compare the results of each model. Which model performed best?"
      ]
    },
    {
      "cell_type": "code",
      "metadata": {
        "colab": {
          "base_uri": "https://localhost:8080/",
          "height": 336
        },
        "id": "mXp38wkYS7yn",
        "outputId": "74213508-0f11-4476-a830-a9cd07ea04c0"
      },
      "source": [
        "test = pd.DataFrame(data=test_acc, columns=['Test Accuracy Score'])\n",
        "\n",
        "vals = test['Test Accuracy Score']\n",
        "norm = plt.Normalize(vals.min(), vals.max()+.025)\n",
        "colors = plt.cm.bone(norm(vals))\n",
        "\n",
        "\n",
        "plt.figure(figsize=(10,5))\n",
        "\n",
        "ax = sns.barplot(y=test['Test Accuracy Score'], x=test.index, palette=colors)\n",
        "plt.ylabel('Accuracy Scores')\n",
        "plt.title('Accuracy Scores of Different Models')\n",
        "plt.show()"
      ],
      "execution_count": null,
      "outputs": [
        {
          "output_type": "display_data",
          "data": {
            "image/png": "[encoded data removed]",
            "text/plain": [
              "<Figure size 720x360 with 1 Axes>"
            ]
          },
          "metadata": {
            "tags": [],
            "needs_background": "light"
          }
        }
      ]
    },
    {
      "cell_type": "code",
      "metadata": {
        "colab": {
          "base_uri": "https://localhost:8080/",
          "height": 336
        },
        "id": "DicHsldgE-gD",
        "outputId": "24ef89ac-7fc2-4fb3-d3bd-e8d638616a8f"
      },
      "source": [
        "train = pd.DataFrame(data=train_acc, columns=['Training Accuracy Score'])\n",
        "\n",
        "vals = train['Training Accuracy Score']\n",
        "norm = plt.Normalize(vals.min(), vals.max()+.025)\n",
        "colors = plt.cm.bone(norm(vals))\n",
        "\n",
        "\n",
        "plt.figure(figsize=(10,5))\n",
        "\n",
        "ax = sns.barplot(y=train['Training Accuracy Score'], x=train.index, palette=colors)\n",
        "plt.ylabel('Accuracy Scores')\n",
        "plt.title('Accuracy Scores of Different Models')\n",
        "plt.show()"
      ],
      "execution_count": null,
      "outputs": [
        {
          "output_type": "display_data",
          "data": {
            "image/png": "[encoded data removed]",
            "text/plain": [
              "<Figure size 720x360 with 1 Axes>"
            ]
          },
          "metadata": {
            "tags": [],
            "needs_background": "light"
          }
        }
      ]
    },
    {
      "cell_type": "markdown",
      "metadata": {
        "id": "CJGWhRJziWGz"
      },
      "source": [
        "After trying out a bunch of different options, I  found that the full batch size was quicker but innacurate, and sigmoid did a really poor job at identifying the images. Having really high neuron counts in each level didnt seem as useful as having decreasing neuron counts. Very low batch size kind of tended to overfit. 3-layer was a bit too simple for this dataset, and the 6-layer models tended to have better success in image recognition."
      ]
    },
    {
      "cell_type": "markdown",
      "metadata": {
        "id": "aeQg51LVvyLl"
      },
      "source": [
        "The six-layer relu or tanh models with descending neuron counts seem to be the best models, although there may be concerns of overfitting in the lower batch size models."
      ]
    },
    {
      "cell_type": "code",
      "metadata": {
        "id": "5fTtvaWJThwR"
      },
      "source": [
        "final = test.copy()"
      ],
      "execution_count": null,
      "outputs": []
    },
    {
      "cell_type": "code",
      "metadata": {
        "id": "k6Y1hB82TqQy"
      },
      "source": [
        "final['Training Accuracy Score'] = train_acc"
      ],
      "execution_count": null,
      "outputs": []
    },
    {
      "cell_type": "code",
      "metadata": {
        "id": "1pLxPgPpT3kr"
      },
      "source": [
        "final['Overfitting Difference'] = (final['Training Accuracy Score'] - final['Test Accuracy Score'])/final['Training Accuracy Score']"
      ],
      "execution_count": null,
      "outputs": []
    },
    {
      "cell_type": "code",
      "metadata": {
        "colab": {
          "base_uri": "https://localhost:8080/",
          "height": 336
        },
        "id": "Z2H9RpoWUB5q",
        "outputId": "305c462d-b4f5-4f57-b21e-d210e3813e27"
      },
      "source": [
        "vals = final['Overfitting Difference']\n",
        "norm = plt.Normalize(vals.min(), vals.max()+.025)\n",
        "colors = plt.cm.bone_r(norm(vals))\n",
        "\n",
        "\n",
        "plt.figure(figsize=(10,5))\n",
        "\n",
        "ax = sns.barplot(y=vals, x=final.index, palette=colors)\n",
        "plt.ylabel('Overfitting Difference')\n",
        "plt.title('Overfitting Differences of Different Models')\n",
        "plt.show()"
      ],
      "execution_count": null,
      "outputs": [
        {
          "output_type": "display_data",
          "data": {
            "image/png": "[encoded data removed]",
            "text/plain": [
              "<Figure size 720x360 with 1 Axes>"
            ]
          },
          "metadata": {
            "tags": [],
            "needs_background": "light"
          }
        }
      ]
    },
    {
      "cell_type": "markdown",
      "metadata": {
        "id": "uCSr-h9Oi4HA"
      },
      "source": [
        "Looks like 12 and 14 are our best bets: That was the 6-layer relu and tanh models with batch size 128."
      ]
    },
    {
      "cell_type": "code",
      "metadata": {
        "id": "wvyhoYA-jYNP"
      },
      "source": [
        "for i in [1,3,5,6,7,9,11]:\n",
        "  final = final.drop(i,axis=0)"
      ],
      "execution_count": null,
      "outputs": []
    },
    {
      "cell_type": "code",
      "metadata": {
        "colab": {
          "base_uri": "https://localhost:8080/",
          "height": 336
        },
        "id": "SUNKldcKjuIx",
        "outputId": "05ea991f-5cc4-447a-8673-46752ae1d8da"
      },
      "source": [
        "vals = final['Test Accuracy Score']\n",
        "norm = plt.Normalize(vals.min(), vals.max()+.025)\n",
        "colors = plt.cm.bone(norm(vals))\n",
        "\n",
        "\n",
        "plt.figure(figsize=(10,5))\n",
        "\n",
        "ax = sns.barplot(y=vals, x=final.index, palette=colors)\n",
        "plt.ylabel('Overfitting Difference')\n",
        "plt.title('Overfitting Differences of Different Models')\n",
        "plt.show()"
      ],
      "execution_count": null,
      "outputs": [
        {
          "output_type": "display_data",
          "data": {
            "image/png": "[encoded data removed]",
            "text/plain": [
              "<Figure size 720x360 with 1 Axes>"
            ]
          },
          "metadata": {
            "tags": [],
            "needs_background": "light"
          }
        }
      ]
    },
    {
      "cell_type": "code",
      "metadata": {
        "id": "dUpju7KnkizH"
      },
      "source": [
        ""
      ],
      "execution_count": null,
      "outputs": []
    }
  ]
}